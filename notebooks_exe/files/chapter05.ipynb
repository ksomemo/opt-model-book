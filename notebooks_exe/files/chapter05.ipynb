{
 "cells": [
  {
   "cell_type": "markdown",
   "metadata": {},
   "source": [
    "## 第5章 pandas の使い方（変数表）\n",
    "\n",
    "http://pandas.pydata.org/"
   ]
  },
  {
   "cell_type": "markdown",
   "metadata": {},
   "source": [
    "### 5.1 データの作成"
   ]
  },
  {
   "cell_type": "code",
   "execution_count": 1,
   "metadata": {},
   "outputs": [
    {
     "data": {
      "text/html": [
       "<div>\n",
       "<style scoped>\n",
       "    .dataframe tbody tr th:only-of-type {\n",
       "        vertical-align: middle;\n",
       "    }\n",
       "\n",
       "    .dataframe tbody tr th {\n",
       "        vertical-align: top;\n",
       "    }\n",
       "\n",
       "    .dataframe thead th {\n",
       "        text-align: right;\n",
       "    }\n",
       "</style>\n",
       "<table border=\"1\" class=\"dataframe\">\n",
       "  <thead>\n",
       "    <tr style=\"text-align: right;\">\n",
       "      <th></th>\n",
       "      <th>A</th>\n",
       "      <th>B</th>\n",
       "      <th>C</th>\n",
       "    </tr>\n",
       "  </thead>\n",
       "  <tbody>\n",
       "    <tr>\n",
       "      <th>0</th>\n",
       "      <td>2</td>\n",
       "      <td>4</td>\n",
       "      <td>6</td>\n",
       "    </tr>\n",
       "    <tr>\n",
       "      <th>1</th>\n",
       "      <td>8</td>\n",
       "      <td>10</td>\n",
       "      <td>12</td>\n",
       "    </tr>\n",
       "  </tbody>\n",
       "</table>\n",
       "</div>"
      ],
      "text/plain": [
       "   A   B   C\n",
       "0  2   4   6\n",
       "1  8  10  12"
      ]
     },
     "execution_count": 1,
     "metadata": {},
     "output_type": "execute_result"
    }
   ],
   "source": [
    "import numpy as np, pandas as pd\n",
    "df = pd.DataFrame(np.arange(2, 14, 2).reshape(2, 3),\n",
    "    columns=['A', 'B', 'C'])\n",
    "df"
   ]
  },
  {
   "cell_type": "code",
   "execution_count": 2,
   "metadata": {},
   "outputs": [
    {
     "data": {
      "text/html": [
       "<div>\n",
       "<style scoped>\n",
       "    .dataframe tbody tr th:only-of-type {\n",
       "        vertical-align: middle;\n",
       "    }\n",
       "\n",
       "    .dataframe tbody tr th {\n",
       "        vertical-align: top;\n",
       "    }\n",
       "\n",
       "    .dataframe thead th {\n",
       "        text-align: right;\n",
       "    }\n",
       "</style>\n",
       "<table border=\"1\" class=\"dataframe\">\n",
       "  <thead>\n",
       "    <tr style=\"text-align: right;\">\n",
       "      <th></th>\n",
       "      <th>A</th>\n",
       "      <th>B</th>\n",
       "      <th>C</th>\n",
       "    </tr>\n",
       "  </thead>\n",
       "  <tbody>\n",
       "    <tr>\n",
       "      <th>0</th>\n",
       "      <td>2</td>\n",
       "      <td>4</td>\n",
       "      <td>6</td>\n",
       "    </tr>\n",
       "    <tr>\n",
       "      <th>1</th>\n",
       "      <td>8</td>\n",
       "      <td>10</td>\n",
       "      <td>12</td>\n",
       "    </tr>\n",
       "  </tbody>\n",
       "</table>\n",
       "</div>"
      ],
      "text/plain": [
       "   A   B   C\n",
       "0  2   4   6\n",
       "1  8  10  12"
      ]
     },
     "execution_count": 2,
     "metadata": {},
     "output_type": "execute_result"
    }
   ],
   "source": [
    "pd.DataFrame({'A': [2, 8],\n",
    "              'B': [4, 10],\n",
    "              'C': [6, 12]})"
   ]
  },
  {
   "cell_type": "code",
   "execution_count": 3,
   "metadata": {},
   "outputs": [
    {
     "data": {
      "text/plain": [
       "array([ 2,  4,  6,  8, 10, 12])"
      ]
     },
     "execution_count": 3,
     "metadata": {},
     "output_type": "execute_result"
    }
   ],
   "source": [
    "import numpy as np\n",
    "np.arange(2, 14, 2)"
   ]
  },
  {
   "cell_type": "code",
   "execution_count": 4,
   "metadata": {},
   "outputs": [
    {
     "data": {
      "text/plain": [
       "0    1.0\n",
       "1    2.0\n",
       "2    3.0\n",
       "dtype: float64"
      ]
     },
     "execution_count": 4,
     "metadata": {},
     "output_type": "execute_result"
    }
   ],
   "source": [
    "pd.Series([1, 2, 3], dtype=float)"
   ]
  },
  {
   "cell_type": "code",
   "execution_count": 5,
   "metadata": {},
   "outputs": [
    {
     "data": {
      "text/html": [
       "<div>\n",
       "<style scoped>\n",
       "    .dataframe tbody tr th:only-of-type {\n",
       "        vertical-align: middle;\n",
       "    }\n",
       "\n",
       "    .dataframe tbody tr th {\n",
       "        vertical-align: top;\n",
       "    }\n",
       "\n",
       "    .dataframe thead th {\n",
       "        text-align: right;\n",
       "    }\n",
       "</style>\n",
       "<table border=\"1\" class=\"dataframe\">\n",
       "  <thead>\n",
       "    <tr style=\"text-align: right;\">\n",
       "      <th></th>\n",
       "      <th>A</th>\n",
       "      <th>B</th>\n",
       "      <th>C</th>\n",
       "      <th>Var</th>\n",
       "    </tr>\n",
       "  </thead>\n",
       "  <tbody>\n",
       "    <tr>\n",
       "      <th>0</th>\n",
       "      <td>2</td>\n",
       "      <td>4</td>\n",
       "      <td>6</td>\n",
       "      <td>None</td>\n",
       "    </tr>\n",
       "    <tr>\n",
       "      <th>1</th>\n",
       "      <td>8</td>\n",
       "      <td>10</td>\n",
       "      <td>12</td>\n",
       "      <td>None</td>\n",
       "    </tr>\n",
       "  </tbody>\n",
       "</table>\n",
       "</div>"
      ],
      "text/plain": [
       "   A   B   C   Var\n",
       "0  2   4   6  None\n",
       "1  8  10  12  None"
      ]
     },
     "execution_count": 5,
     "metadata": {},
     "output_type": "execute_result"
    }
   ],
   "source": [
    "df['Var'] = None\n",
    "df"
   ]
  },
  {
   "cell_type": "markdown",
   "metadata": {},
   "source": [
    "### 5.3 ブロードキャスト"
   ]
  },
  {
   "cell_type": "code",
   "execution_count": 6,
   "metadata": {},
   "outputs": [
    {
     "data": {
      "text/html": [
       "<div>\n",
       "<style scoped>\n",
       "    .dataframe tbody tr th:only-of-type {\n",
       "        vertical-align: middle;\n",
       "    }\n",
       "\n",
       "    .dataframe tbody tr th {\n",
       "        vertical-align: top;\n",
       "    }\n",
       "\n",
       "    .dataframe thead th {\n",
       "        text-align: right;\n",
       "    }\n",
       "</style>\n",
       "<table border=\"1\" class=\"dataframe\">\n",
       "  <thead>\n",
       "    <tr style=\"text-align: right;\">\n",
       "      <th></th>\n",
       "      <th>0</th>\n",
       "      <th>1</th>\n",
       "      <th>2</th>\n",
       "    </tr>\n",
       "  </thead>\n",
       "  <tbody>\n",
       "    <tr>\n",
       "      <th>0</th>\n",
       "      <td>1</td>\n",
       "      <td>1</td>\n",
       "      <td>2</td>\n",
       "    </tr>\n",
       "    <tr>\n",
       "      <th>1</th>\n",
       "      <td>2</td>\n",
       "      <td>3</td>\n",
       "      <td>3</td>\n",
       "    </tr>\n",
       "  </tbody>\n",
       "</table>\n",
       "</div>"
      ],
      "text/plain": [
       "   0  1  2\n",
       "0  1  1  2\n",
       "1  2  3  3"
      ]
     },
     "execution_count": 6,
     "metadata": {},
     "output_type": "execute_result"
    }
   ],
   "source": [
    "df = pd.DataFrame(np.arange(2, 8).reshape(2, 3))\n",
    "df // 2  # 2で割った商"
   ]
  },
  {
   "cell_type": "code",
   "execution_count": 7,
   "metadata": {},
   "outputs": [
    {
     "data": {
      "text/html": [
       "<div>\n",
       "<style scoped>\n",
       "    .dataframe tbody tr th:only-of-type {\n",
       "        vertical-align: middle;\n",
       "    }\n",
       "\n",
       "    .dataframe tbody tr th {\n",
       "        vertical-align: top;\n",
       "    }\n",
       "\n",
       "    .dataframe thead th {\n",
       "        text-align: right;\n",
       "    }\n",
       "</style>\n",
       "<table border=\"1\" class=\"dataframe\">\n",
       "  <thead>\n",
       "    <tr style=\"text-align: right;\">\n",
       "      <th></th>\n",
       "      <th>0</th>\n",
       "      <th>1</th>\n",
       "      <th>2</th>\n",
       "    </tr>\n",
       "  </thead>\n",
       "  <tbody>\n",
       "    <tr>\n",
       "      <th>0</th>\n",
       "      <td>4</td>\n",
       "      <td>4</td>\n",
       "      <td>4</td>\n",
       "    </tr>\n",
       "    <tr>\n",
       "      <th>1</th>\n",
       "      <td>7</td>\n",
       "      <td>7</td>\n",
       "      <td>7</td>\n",
       "    </tr>\n",
       "  </tbody>\n",
       "</table>\n",
       "</div>"
      ],
      "text/plain": [
       "   0  1  2\n",
       "0  4  4  4\n",
       "1  7  7  7"
      ]
     },
     "execution_count": 7,
     "metadata": {},
     "output_type": "execute_result"
    }
   ],
   "source": [
    "df + [2, 1, 0]"
   ]
  },
  {
   "cell_type": "code",
   "execution_count": 8,
   "metadata": {},
   "outputs": [
    {
     "data": {
      "text/html": [
       "<div>\n",
       "<style scoped>\n",
       "    .dataframe tbody tr th:only-of-type {\n",
       "        vertical-align: middle;\n",
       "    }\n",
       "\n",
       "    .dataframe tbody tr th {\n",
       "        vertical-align: top;\n",
       "    }\n",
       "\n",
       "    .dataframe thead th {\n",
       "        text-align: right;\n",
       "    }\n",
       "</style>\n",
       "<table border=\"1\" class=\"dataframe\">\n",
       "  <thead>\n",
       "    <tr style=\"text-align: right;\">\n",
       "      <th></th>\n",
       "      <th>0</th>\n",
       "      <th>1</th>\n",
       "      <th>2</th>\n",
       "    </tr>\n",
       "  </thead>\n",
       "  <tbody>\n",
       "    <tr>\n",
       "      <th>0</th>\n",
       "      <td>5</td>\n",
       "      <td>6</td>\n",
       "      <td>7</td>\n",
       "    </tr>\n",
       "    <tr>\n",
       "      <th>1</th>\n",
       "      <td>5</td>\n",
       "      <td>6</td>\n",
       "      <td>7</td>\n",
       "    </tr>\n",
       "  </tbody>\n",
       "</table>\n",
       "</div>"
      ],
      "text/plain": [
       "   0  1  2\n",
       "0  5  6  7\n",
       "1  5  6  7"
      ]
     },
     "execution_count": 8,
     "metadata": {},
     "output_type": "execute_result"
    }
   ],
   "source": [
    "(df.T + [3, 0]).T"
   ]
  },
  {
   "cell_type": "markdown",
   "metadata": {},
   "source": [
    "### 5.4 条件抽出"
   ]
  },
  {
   "cell_type": "code",
   "execution_count": 9,
   "metadata": {},
   "outputs": [
    {
     "data": {
      "text/html": [
       "<div>\n",
       "<style scoped>\n",
       "    .dataframe tbody tr th:only-of-type {\n",
       "        vertical-align: middle;\n",
       "    }\n",
       "\n",
       "    .dataframe tbody tr th {\n",
       "        vertical-align: top;\n",
       "    }\n",
       "\n",
       "    .dataframe thead th {\n",
       "        text-align: right;\n",
       "    }\n",
       "</style>\n",
       "<table border=\"1\" class=\"dataframe\">\n",
       "  <thead>\n",
       "    <tr style=\"text-align: right;\">\n",
       "      <th></th>\n",
       "      <th>A</th>\n",
       "      <th>B</th>\n",
       "    </tr>\n",
       "  </thead>\n",
       "  <tbody>\n",
       "    <tr>\n",
       "      <th>1</th>\n",
       "      <td>2</td>\n",
       "      <td>3</td>\n",
       "    </tr>\n",
       "    <tr>\n",
       "      <th>2</th>\n",
       "      <td>4</td>\n",
       "      <td>5</td>\n",
       "    </tr>\n",
       "  </tbody>\n",
       "</table>\n",
       "</div>"
      ],
      "text/plain": [
       "   A  B\n",
       "1  2  3\n",
       "2  4  5"
      ]
     },
     "execution_count": 9,
     "metadata": {},
     "output_type": "execute_result"
    }
   ],
   "source": [
    "df = pd.DataFrame(np.arange(8).reshape(4, 2),\n",
    "                 columns=['A', 'B'])\n",
    "i, j = 2, 5\n",
    "df[(df.A==i) | (df.B==j)]"
   ]
  },
  {
   "cell_type": "code",
   "execution_count": 10,
   "metadata": {},
   "outputs": [
    {
     "data": {
      "text/html": [
       "<div>\n",
       "<style scoped>\n",
       "    .dataframe tbody tr th:only-of-type {\n",
       "        vertical-align: middle;\n",
       "    }\n",
       "\n",
       "    .dataframe tbody tr th {\n",
       "        vertical-align: top;\n",
       "    }\n",
       "\n",
       "    .dataframe thead th {\n",
       "        text-align: right;\n",
       "    }\n",
       "</style>\n",
       "<table border=\"1\" class=\"dataframe\">\n",
       "  <thead>\n",
       "    <tr style=\"text-align: right;\">\n",
       "      <th></th>\n",
       "      <th>A</th>\n",
       "      <th>B</th>\n",
       "    </tr>\n",
       "  </thead>\n",
       "  <tbody>\n",
       "    <tr>\n",
       "      <th>1</th>\n",
       "      <td>2</td>\n",
       "      <td>3</td>\n",
       "    </tr>\n",
       "    <tr>\n",
       "      <th>2</th>\n",
       "      <td>4</td>\n",
       "      <td>5</td>\n",
       "    </tr>\n",
       "  </tbody>\n",
       "</table>\n",
       "</div>"
      ],
      "text/plain": [
       "   A  B\n",
       "1  2  3\n",
       "2  4  5"
      ]
     },
     "execution_count": 10,
     "metadata": {},
     "output_type": "execute_result"
    }
   ],
   "source": [
    "df.query('A==@i or B==@j')"
   ]
  },
  {
   "cell_type": "markdown",
   "metadata": {},
   "source": [
    "### 5.5 ユニバーサル関数"
   ]
  },
  {
   "cell_type": "code",
   "execution_count": 11,
   "metadata": {},
   "outputs": [
    {
     "data": {
      "text/html": [
       "<div>\n",
       "<style scoped>\n",
       "    .dataframe tbody tr th:only-of-type {\n",
       "        vertical-align: middle;\n",
       "    }\n",
       "\n",
       "    .dataframe tbody tr th {\n",
       "        vertical-align: top;\n",
       "    }\n",
       "\n",
       "    .dataframe thead th {\n",
       "        text-align: right;\n",
       "    }\n",
       "</style>\n",
       "<table border=\"1\" class=\"dataframe\">\n",
       "  <thead>\n",
       "    <tr style=\"text-align: right;\">\n",
       "      <th></th>\n",
       "      <th>0</th>\n",
       "      <th>1</th>\n",
       "      <th>2</th>\n",
       "    </tr>\n",
       "  </thead>\n",
       "  <tbody>\n",
       "    <tr>\n",
       "      <th>0</th>\n",
       "      <td>True</td>\n",
       "      <td>True</td>\n",
       "      <td>True</td>\n",
       "    </tr>\n",
       "    <tr>\n",
       "      <th>1</th>\n",
       "      <td>False</td>\n",
       "      <td>False</td>\n",
       "      <td>False</td>\n",
       "    </tr>\n",
       "  </tbody>\n",
       "</table>\n",
       "</div>"
      ],
      "text/plain": [
       "       0      1      2\n",
       "0   True   True   True\n",
       "1  False  False  False"
      ]
     },
     "execution_count": 11,
     "metadata": {},
     "output_type": "execute_result"
    }
   ],
   "source": [
    "df = pd.DataFrame(np.arange(2, 8).reshape(2, 3))\n",
    "df < 5"
   ]
  },
  {
   "cell_type": "code",
   "execution_count": 12,
   "metadata": {},
   "outputs": [
    {
     "data": {
      "text/html": [
       "<div>\n",
       "<style scoped>\n",
       "    .dataframe tbody tr th:only-of-type {\n",
       "        vertical-align: middle;\n",
       "    }\n",
       "\n",
       "    .dataframe tbody tr th {\n",
       "        vertical-align: top;\n",
       "    }\n",
       "\n",
       "    .dataframe thead th {\n",
       "        text-align: right;\n",
       "    }\n",
       "</style>\n",
       "<table border=\"1\" class=\"dataframe\">\n",
       "  <thead>\n",
       "    <tr style=\"text-align: right;\">\n",
       "      <th></th>\n",
       "      <th>0</th>\n",
       "      <th>1</th>\n",
       "      <th>2</th>\n",
       "    </tr>\n",
       "  </thead>\n",
       "  <tbody>\n",
       "    <tr>\n",
       "      <th>0</th>\n",
       "      <td>True</td>\n",
       "      <td>True</td>\n",
       "      <td>True</td>\n",
       "    </tr>\n",
       "    <tr>\n",
       "      <th>1</th>\n",
       "      <td>False</td>\n",
       "      <td>False</td>\n",
       "      <td>False</td>\n",
       "    </tr>\n",
       "  </tbody>\n",
       "</table>\n",
       "</div>"
      ],
      "text/plain": [
       "       0      1      2\n",
       "0   True   True   True\n",
       "1  False  False  False"
      ]
     },
     "execution_count": 12,
     "metadata": {},
     "output_type": "execute_result"
    }
   ],
   "source": [
    "np.less(df, 5)"
   ]
  },
  {
   "cell_type": "code",
   "execution_count": 13,
   "metadata": {},
   "outputs": [
    {
     "data": {
      "text/html": [
       "<div>\n",
       "<style scoped>\n",
       "    .dataframe tbody tr th:only-of-type {\n",
       "        vertical-align: middle;\n",
       "    }\n",
       "\n",
       "    .dataframe tbody tr th {\n",
       "        vertical-align: top;\n",
       "    }\n",
       "\n",
       "    .dataframe thead th {\n",
       "        text-align: right;\n",
       "    }\n",
       "</style>\n",
       "<table border=\"1\" class=\"dataframe\">\n",
       "  <thead>\n",
       "    <tr style=\"text-align: right;\">\n",
       "      <th></th>\n",
       "      <th>0</th>\n",
       "      <th>1</th>\n",
       "      <th>2</th>\n",
       "    </tr>\n",
       "  </thead>\n",
       "  <tbody>\n",
       "    <tr>\n",
       "      <th>0</th>\n",
       "      <td>True</td>\n",
       "      <td>True</td>\n",
       "      <td>True</td>\n",
       "    </tr>\n",
       "    <tr>\n",
       "      <th>1</th>\n",
       "      <td>False</td>\n",
       "      <td>False</td>\n",
       "      <td>False</td>\n",
       "    </tr>\n",
       "  </tbody>\n",
       "</table>\n",
       "</div>"
      ],
      "text/plain": [
       "       0      1      2\n",
       "0   True   True   True\n",
       "1  False  False  False"
      ]
     },
     "execution_count": 13,
     "metadata": {},
     "output_type": "execute_result"
    }
   ],
   "source": [
    "df.apply(lambda v: v < 5)"
   ]
  },
  {
   "cell_type": "markdown",
   "metadata": {},
   "source": [
    "### 5.6 軸で演算する関数"
   ]
  },
  {
   "cell_type": "code",
   "execution_count": 14,
   "metadata": {},
   "outputs": [
    {
     "data": {
      "text/plain": [
       "0    5\n",
       "1    6\n",
       "2    7\n",
       "dtype: int64"
      ]
     },
     "execution_count": 14,
     "metadata": {},
     "output_type": "execute_result"
    }
   ],
   "source": [
    "df = pd.DataFrame(np.arange(2, 8).reshape(2, 3))\n",
    "df.max()"
   ]
  },
  {
   "cell_type": "code",
   "execution_count": 15,
   "metadata": {},
   "outputs": [
    {
     "data": {
      "text/plain": [
       "0    4\n",
       "1    7\n",
       "dtype: int64"
      ]
     },
     "execution_count": 15,
     "metadata": {},
     "output_type": "execute_result"
    }
   ],
   "source": [
    "df.max(axis=1)"
   ]
  },
  {
   "cell_type": "code",
   "execution_count": 16,
   "metadata": {},
   "outputs": [
    {
     "name": "stdout",
     "output_type": "stream",
     "text": [
      "5\n",
      "[1 1 1]\n",
      "[2 2]\n"
     ]
    }
   ],
   "source": [
    "print(df.values.argmax())  # 5\n",
    "print(df.values.argmax(0))  # [1 1 1]\n",
    "print(df.values.argmax(1))  # [2 2]"
   ]
  },
  {
   "cell_type": "markdown",
   "metadata": {},
   "source": [
    "### 5.7 その他の関数"
   ]
  },
  {
   "cell_type": "code",
   "execution_count": 17,
   "metadata": {},
   "outputs": [
    {
     "data": {
      "text/html": [
       "<div>\n",
       "<style scoped>\n",
       "    .dataframe tbody tr th:only-of-type {\n",
       "        vertical-align: middle;\n",
       "    }\n",
       "\n",
       "    .dataframe tbody tr th {\n",
       "        vertical-align: top;\n",
       "    }\n",
       "\n",
       "    .dataframe thead th {\n",
       "        text-align: right;\n",
       "    }\n",
       "</style>\n",
       "<table border=\"1\" class=\"dataframe\">\n",
       "  <thead>\n",
       "    <tr style=\"text-align: right;\">\n",
       "      <th></th>\n",
       "      <th>A</th>\n",
       "      <th>B</th>\n",
       "    </tr>\n",
       "  </thead>\n",
       "  <tbody>\n",
       "    <tr>\n",
       "      <th>0</th>\n",
       "      <td>1</td>\n",
       "      <td>3</td>\n",
       "    </tr>\n",
       "    <tr>\n",
       "      <th>1</th>\n",
       "      <td>1</td>\n",
       "      <td>5</td>\n",
       "    </tr>\n",
       "    <tr>\n",
       "      <th>2</th>\n",
       "      <td>2</td>\n",
       "      <td>7</td>\n",
       "    </tr>\n",
       "  </tbody>\n",
       "</table>\n",
       "</div>"
      ],
      "text/plain": [
       "   A  B\n",
       "0  1  3\n",
       "1  1  5\n",
       "2  2  7"
      ]
     },
     "execution_count": 17,
     "metadata": {},
     "output_type": "execute_result"
    }
   ],
   "source": [
    "df = pd.DataFrame([[1, 3], [1, 5], [2, 7]],\n",
    "                  columns=['A', 'B'])\n",
    "df  # 元の表"
   ]
  },
  {
   "cell_type": "code",
   "execution_count": 18,
   "metadata": {},
   "outputs": [
    {
     "name": "stdout",
     "output_type": "stream",
     "text": [
      "1:\n",
      "   A  B\n",
      "0  1  3\n",
      "1  1  5\n",
      "\n",
      "2:\n",
      "   A  B\n",
      "2  2  7\n",
      "\n"
     ]
    }
   ],
   "source": [
    "for key, group in df.groupby('A'):\n",
    "    print(f'{key}:\\n{group}\\n')"
   ]
  },
  {
   "cell_type": "code",
   "execution_count": 19,
   "metadata": {},
   "outputs": [
    {
     "data": {
      "text/html": [
       "<div>\n",
       "<style scoped>\n",
       "    .dataframe tbody tr th:only-of-type {\n",
       "        vertical-align: middle;\n",
       "    }\n",
       "\n",
       "    .dataframe tbody tr th {\n",
       "        vertical-align: top;\n",
       "    }\n",
       "\n",
       "    .dataframe thead th {\n",
       "        text-align: right;\n",
       "    }\n",
       "</style>\n",
       "<table border=\"1\" class=\"dataframe\">\n",
       "  <thead>\n",
       "    <tr style=\"text-align: right;\">\n",
       "      <th></th>\n",
       "      <th>B</th>\n",
       "    </tr>\n",
       "    <tr>\n",
       "      <th>A</th>\n",
       "      <th></th>\n",
       "    </tr>\n",
       "  </thead>\n",
       "  <tbody>\n",
       "    <tr>\n",
       "      <th>1</th>\n",
       "      <td>3</td>\n",
       "    </tr>\n",
       "    <tr>\n",
       "      <th>2</th>\n",
       "      <td>7</td>\n",
       "    </tr>\n",
       "  </tbody>\n",
       "</table>\n",
       "</div>"
      ],
      "text/plain": [
       "   B\n",
       "A   \n",
       "1  3\n",
       "2  7"
      ]
     },
     "execution_count": 19,
     "metadata": {},
     "output_type": "execute_result"
    }
   ],
   "source": [
    "df.groupby('A').first()"
   ]
  },
  {
   "cell_type": "code",
   "execution_count": 20,
   "metadata": {},
   "outputs": [
    {
     "data": {
      "text/html": [
       "<div>\n",
       "<style scoped>\n",
       "    .dataframe tbody tr th:only-of-type {\n",
       "        vertical-align: middle;\n",
       "    }\n",
       "\n",
       "    .dataframe tbody tr th {\n",
       "        vertical-align: top;\n",
       "    }\n",
       "\n",
       "    .dataframe thead th {\n",
       "        text-align: right;\n",
       "    }\n",
       "</style>\n",
       "<table border=\"1\" class=\"dataframe\">\n",
       "  <thead>\n",
       "    <tr style=\"text-align: right;\">\n",
       "      <th></th>\n",
       "      <th>B</th>\n",
       "    </tr>\n",
       "    <tr>\n",
       "      <th>A</th>\n",
       "      <th></th>\n",
       "    </tr>\n",
       "  </thead>\n",
       "  <tbody>\n",
       "    <tr>\n",
       "      <th>1</th>\n",
       "      <td>4</td>\n",
       "    </tr>\n",
       "    <tr>\n",
       "      <th>2</th>\n",
       "      <td>7</td>\n",
       "    </tr>\n",
       "  </tbody>\n",
       "</table>\n",
       "</div>"
      ],
      "text/plain": [
       "   B\n",
       "A   \n",
       "1  4\n",
       "2  7"
      ]
     },
     "execution_count": 20,
     "metadata": {},
     "output_type": "execute_result"
    }
   ],
   "source": [
    "df.groupby('A').mean()"
   ]
  },
  {
   "cell_type": "code",
   "execution_count": 21,
   "metadata": {},
   "outputs": [
    {
     "data": {
      "text/html": [
       "<div>\n",
       "<style scoped>\n",
       "    .dataframe tbody tr th:only-of-type {\n",
       "        vertical-align: middle;\n",
       "    }\n",
       "\n",
       "    .dataframe tbody tr th {\n",
       "        vertical-align: top;\n",
       "    }\n",
       "\n",
       "    .dataframe thead th {\n",
       "        text-align: right;\n",
       "    }\n",
       "</style>\n",
       "<table border=\"1\" class=\"dataframe\">\n",
       "  <thead>\n",
       "    <tr style=\"text-align: right;\">\n",
       "      <th></th>\n",
       "      <th>I</th>\n",
       "      <th>J</th>\n",
       "      <th>Var</th>\n",
       "    </tr>\n",
       "  </thead>\n",
       "  <tbody>\n",
       "    <tr>\n",
       "      <th>0</th>\n",
       "      <td>1</td>\n",
       "      <td>2</td>\n",
       "      <td>U</td>\n",
       "    </tr>\n",
       "    <tr>\n",
       "      <th>1</th>\n",
       "      <td>1</td>\n",
       "      <td>3</td>\n",
       "      <td>V</td>\n",
       "    </tr>\n",
       "    <tr>\n",
       "      <th>2</th>\n",
       "      <td>2</td>\n",
       "      <td>1</td>\n",
       "      <td>W</td>\n",
       "    </tr>\n",
       "    <tr>\n",
       "      <th>3</th>\n",
       "      <td>2</td>\n",
       "      <td>3</td>\n",
       "      <td>X</td>\n",
       "    </tr>\n",
       "    <tr>\n",
       "      <th>4</th>\n",
       "      <td>3</td>\n",
       "      <td>1</td>\n",
       "      <td>Y</td>\n",
       "    </tr>\n",
       "    <tr>\n",
       "      <th>5</th>\n",
       "      <td>3</td>\n",
       "      <td>2</td>\n",
       "      <td>Z</td>\n",
       "    </tr>\n",
       "  </tbody>\n",
       "</table>\n",
       "</div>"
      ],
      "text/plain": [
       "   I  J Var\n",
       "0  1  2   U\n",
       "1  1  3   V\n",
       "2  2  1   W\n",
       "3  2  3   X\n",
       "4  3  1   Y\n",
       "5  3  2   Z"
      ]
     },
     "execution_count": 21,
     "metadata": {},
     "output_type": "execute_result"
    }
   ],
   "source": [
    "df = pd.DataFrame({'I': [1, 1, 2, 2, 3, 3],\n",
    "                   'J': [2, 3, 1, 3, 1, 2],\n",
    "                   'Var': 'U V W X Y Z'.split()})\n",
    "df"
   ]
  },
  {
   "cell_type": "code",
   "execution_count": 22,
   "metadata": {},
   "outputs": [
    {
     "data": {
      "text/html": [
       "<div>\n",
       "<style scoped>\n",
       "    .dataframe tbody tr th:only-of-type {\n",
       "        vertical-align: middle;\n",
       "    }\n",
       "\n",
       "    .dataframe tbody tr th {\n",
       "        vertical-align: top;\n",
       "    }\n",
       "\n",
       "    .dataframe thead th {\n",
       "        text-align: right;\n",
       "    }\n",
       "</style>\n",
       "<table border=\"1\" class=\"dataframe\">\n",
       "  <thead>\n",
       "    <tr style=\"text-align: right;\">\n",
       "      <th></th>\n",
       "      <th>I</th>\n",
       "      <th>J</th>\n",
       "      <th>Var</th>\n",
       "      <th>Other</th>\n",
       "    </tr>\n",
       "  </thead>\n",
       "  <tbody>\n",
       "    <tr>\n",
       "      <th>0</th>\n",
       "      <td>1</td>\n",
       "      <td>2</td>\n",
       "      <td>U</td>\n",
       "      <td>W</td>\n",
       "    </tr>\n",
       "    <tr>\n",
       "      <th>1</th>\n",
       "      <td>1</td>\n",
       "      <td>3</td>\n",
       "      <td>V</td>\n",
       "      <td>Y</td>\n",
       "    </tr>\n",
       "    <tr>\n",
       "      <th>2</th>\n",
       "      <td>2</td>\n",
       "      <td>1</td>\n",
       "      <td>W</td>\n",
       "      <td>U</td>\n",
       "    </tr>\n",
       "    <tr>\n",
       "      <th>3</th>\n",
       "      <td>2</td>\n",
       "      <td>3</td>\n",
       "      <td>X</td>\n",
       "      <td>Z</td>\n",
       "    </tr>\n",
       "    <tr>\n",
       "      <th>4</th>\n",
       "      <td>3</td>\n",
       "      <td>1</td>\n",
       "      <td>Y</td>\n",
       "      <td>V</td>\n",
       "    </tr>\n",
       "    <tr>\n",
       "      <th>5</th>\n",
       "      <td>3</td>\n",
       "      <td>2</td>\n",
       "      <td>Z</td>\n",
       "      <td>X</td>\n",
       "    </tr>\n",
       "  </tbody>\n",
       "</table>\n",
       "</div>"
      ],
      "text/plain": [
       "   I  J Var Other\n",
       "0  1  2   U     W\n",
       "1  1  3   V     Y\n",
       "2  2  1   W     U\n",
       "3  2  3   X     Z\n",
       "4  3  1   Y     V\n",
       "5  3  2   Z     X"
      ]
     },
     "execution_count": 22,
     "metadata": {},
     "output_type": "execute_result"
    }
   ],
   "source": [
    "pd.merge(df, pd.DataFrame(\n",
    "    {'I': df.J, 'J': df.I, 'Other': df.Var}))"
   ]
  },
  {
   "cell_type": "code",
   "execution_count": 23,
   "metadata": {},
   "outputs": [
    {
     "name": "stdout",
     "output_type": "stream",
     "text": [
      "Pandas(Index=0, _1=2, _2=3, _3=4)\n",
      "Pandas(Index=1, _1=5, _2=6, _3=7)\n"
     ]
    }
   ],
   "source": [
    "df = pd.DataFrame(np.arange(2, 8).reshape(2, 3))\n",
    "for row in df.itertuples():\n",
    "    print(row)"
   ]
  },
  {
   "cell_type": "code",
   "execution_count": 24,
   "metadata": {},
   "outputs": [
    {
     "data": {
      "text/html": [
       "<div>\n",
       "<style scoped>\n",
       "    .dataframe tbody tr th:only-of-type {\n",
       "        vertical-align: middle;\n",
       "    }\n",
       "\n",
       "    .dataframe tbody tr th {\n",
       "        vertical-align: top;\n",
       "    }\n",
       "\n",
       "    .dataframe thead th {\n",
       "        text-align: right;\n",
       "    }\n",
       "</style>\n",
       "<table border=\"1\" class=\"dataframe\">\n",
       "  <thead>\n",
       "    <tr style=\"text-align: right;\">\n",
       "      <th></th>\n",
       "      <th>Name</th>\n",
       "      <th>Type</th>\n",
       "    </tr>\n",
       "  </thead>\n",
       "  <tbody>\n",
       "    <tr>\n",
       "      <th>0</th>\n",
       "      <td>Alice</td>\n",
       "      <td>F</td>\n",
       "    </tr>\n",
       "    <tr>\n",
       "      <th>1</th>\n",
       "      <td>Bob</td>\n",
       "      <td>M</td>\n",
       "    </tr>\n",
       "    <tr>\n",
       "      <th>2</th>\n",
       "      <td>Dave</td>\n",
       "      <td>M</td>\n",
       "    </tr>\n",
       "  </tbody>\n",
       "</table>\n",
       "</div>"
      ],
      "text/plain": [
       "    Name Type\n",
       "0  Alice    F\n",
       "1    Bob    M\n",
       "2   Dave    M"
      ]
     },
     "execution_count": 24,
     "metadata": {},
     "output_type": "execute_result"
    }
   ],
   "source": [
    "df = pd.DataFrame([['Alice', 'F'], ['Bob', 'M'],\n",
    "    ['Dave', 'M']], columns=['Name', 'Type'])\n",
    "df"
   ]
  },
  {
   "cell_type": "code",
   "execution_count": 25,
   "metadata": {},
   "outputs": [
    {
     "data": {
      "text/html": [
       "<div>\n",
       "<style scoped>\n",
       "    .dataframe tbody tr th:only-of-type {\n",
       "        vertical-align: middle;\n",
       "    }\n",
       "\n",
       "    .dataframe tbody tr th {\n",
       "        vertical-align: top;\n",
       "    }\n",
       "\n",
       "    .dataframe thead th {\n",
       "        text-align: right;\n",
       "    }\n",
       "</style>\n",
       "<table border=\"1\" class=\"dataframe\">\n",
       "  <thead>\n",
       "    <tr style=\"text-align: right;\">\n",
       "      <th></th>\n",
       "      <th>Name</th>\n",
       "      <th>Type_F</th>\n",
       "      <th>Type_M</th>\n",
       "    </tr>\n",
       "  </thead>\n",
       "  <tbody>\n",
       "    <tr>\n",
       "      <th>0</th>\n",
       "      <td>Alice</td>\n",
       "      <td>1</td>\n",
       "      <td>0</td>\n",
       "    </tr>\n",
       "    <tr>\n",
       "      <th>1</th>\n",
       "      <td>Bob</td>\n",
       "      <td>0</td>\n",
       "      <td>1</td>\n",
       "    </tr>\n",
       "    <tr>\n",
       "      <th>2</th>\n",
       "      <td>Dave</td>\n",
       "      <td>0</td>\n",
       "      <td>1</td>\n",
       "    </tr>\n",
       "  </tbody>\n",
       "</table>\n",
       "</div>"
      ],
      "text/plain": [
       "    Name  Type_F  Type_M\n",
       "0  Alice       1       0\n",
       "1    Bob       0       1\n",
       "2   Dave       0       1"
      ]
     },
     "execution_count": 25,
     "metadata": {},
     "output_type": "execute_result"
    }
   ],
   "source": [
    "pd.get_dummies(df, columns=['Type'])"
   ]
  },
  {
   "cell_type": "code",
   "execution_count": 26,
   "metadata": {},
   "outputs": [
    {
     "data": {
      "text/html": [
       "<div>\n",
       "<style scoped>\n",
       "    .dataframe tbody tr th:only-of-type {\n",
       "        vertical-align: middle;\n",
       "    }\n",
       "\n",
       "    .dataframe tbody tr th {\n",
       "        vertical-align: top;\n",
       "    }\n",
       "\n",
       "    .dataframe thead tr th {\n",
       "        text-align: left;\n",
       "    }\n",
       "\n",
       "    .dataframe thead tr:last-of-type th {\n",
       "        text-align: right;\n",
       "    }\n",
       "</style>\n",
       "<table border=\"1\" class=\"dataframe\">\n",
       "  <thead>\n",
       "    <tr>\n",
       "      <th></th>\n",
       "      <th colspan=\"3\" halign=\"left\">科目</th>\n",
       "    </tr>\n",
       "    <tr>\n",
       "      <th>曜日</th>\n",
       "      <th>月</th>\n",
       "      <th>水</th>\n",
       "      <th>火</th>\n",
       "    </tr>\n",
       "    <tr>\n",
       "      <th>時限</th>\n",
       "      <th></th>\n",
       "      <th></th>\n",
       "      <th></th>\n",
       "    </tr>\n",
       "  </thead>\n",
       "  <tbody>\n",
       "    <tr>\n",
       "      <th>1</th>\n",
       "      <td>国</td>\n",
       "      <td>社</td>\n",
       "      <td>算</td>\n",
       "    </tr>\n",
       "    <tr>\n",
       "      <th>2</th>\n",
       "      <td>理</td>\n",
       "      <td>体</td>\n",
       "      <td>音</td>\n",
       "    </tr>\n",
       "  </tbody>\n",
       "</table>\n",
       "</div>"
      ],
      "text/plain": [
       "   科目      \n",
       "曜日  月  水  火\n",
       "時限         \n",
       "1   国  社  算\n",
       "2   理  体  音"
      ]
     },
     "execution_count": 26,
     "metadata": {},
     "output_type": "execute_result"
    }
   ],
   "source": [
    "df = pd.DataFrame({\n",
    "    '時限': [1, 1, 1, 2, 2, 2],\n",
    "    '曜日': '月 火 水 月 火 水'.split(),\n",
    "    '科目': '国 算 社 理 音 体'.split(),\n",
    "})\n",
    "df.pivot('時限', '曜日')"
   ]
  },
  {
   "cell_type": "markdown",
   "metadata": {},
   "source": [
    "### 5.8 グラフ描画について"
   ]
  },
  {
   "cell_type": "code",
   "execution_count": 27,
   "metadata": {},
   "outputs": [
    {
     "data": {
      "image/png": "[encoded data removed]",
      "text/plain": [
       "<Figure size 360x144 with 1 Axes>"
      ]
     },
     "metadata": {
      "image/png": {
       "height": 155,
       "width": 326
      },
      "needs_background": "light"
     },
     "output_type": "display_data"
    }
   ],
   "source": [
    "%matplotlib inline\n",
    "%config InlineBackend.figure_formats = {'png', 'retina'}\n",
    "import matplotlib.pyplot as plt\n",
    "plt.rcParams['figure.figsize'] = 5, 2\n",
    "plt.rcParams['font.family'] = 'AppleGothic'\n",
    "df = pd.DataFrame(np.sin(np.linspace(0, np.pi)))\n",
    "df.plot(title='サイン');"
   ]
  },
  {
   "cell_type": "code",
   "execution_count": 28,
   "metadata": {
    "scrolled": false
   },
   "outputs": [
    {
     "data": {
      "text/plain": [
       "['/Library/Fonts/Arial Unicode.ttf',\n",
       " '/Library/Fonts/PlantagenetCherokee.ttf',\n",
       " '/System/Library/Fonts/SFNSText-BoldG2.otf',\n",
       " '/Library/Fonts/Microsoft/Constantia Bold Italic.ttf',\n",
       " '/Library/Fonts/Chalkduster.ttf',\n",
       " '/Library/Fonts/Microsoft/Arial.ttf',\n",
       " '/Library/Fonts/Arial Bold Italic.ttf',\n",
       " '/Library/Fonts/Microsoft/Arial Italic.ttf',\n",
       " '/usr/X11/lib/X11/fonts/TTF/GohaTibebZemen.ttf',\n",
       " '/Library/Fonts/Microsoft/Times New Roman Italic.ttf',\n",
       " '/Library/Fonts/Georgia Bold Italic.ttf',\n",
       " '/Library/Fonts/Arial Narrow Bold Italic.ttf',\n",
       " '/usr/X11/lib/X11/fonts/TTF/luxisr.ttf',\n",
       " '/usr/X11/lib/X11/fonts/TTF/luxirbi.ttf',\n",
       " '/Library/Fonts/Microsoft/Wingdings.ttf',\n",
       " '/Library/Fonts/YuppySC-Regular.otf',\n",
       " '/Library/Fonts/STIXVarBol.otf',\n",
       " '/System/Library/Fonts/SFNSText-SemiboldItalic.otf',\n",
       " '/usr/local/share/fonts/migu-1m-bold.ttf',\n",
       " '/Library/Fonts/Georgia Italic.ttf',\n",
       " '/System/Library/Fonts/SFNSText-RegularItalicG2.otf',\n",
       " '/usr/X11R6/lib/X11/fonts/TTF/GohaTibebZemen.ttf',\n",
       " '/Library/Fonts/Microsoft/Perpetua Bold.ttf',\n",
       " '/Library/Fonts/Microsoft/MS PGothic.ttf',\n",
       " '/Library/Fonts/STIXSizFourSymReg.otf',\n",
       " '/usr/X11/lib/X11/fonts/TTF/luximb.ttf',\n",
       " '/Library/Fonts/Microsoft/Palatino Linotype Bold.ttf',\n",
       " '/Library/Fonts/STIXNonUniBolIta.otf',\n",
       " '/Library/Fonts/华文细黑.ttf',\n",
       " '/Library/Fonts/Comic Sans MS Bold.ttf',\n",
       " '/usr/X11R6/lib/X11/fonts/TTF/luxirri.ttf',\n",
       " '/System/Library/Fonts/SFNSText-Light.otf',\n",
       " '/Library/Fonts/Mishafi.ttf',\n",
       " '/System/Library/Fonts/Apple Braille Outline 8 Dot.ttf',\n",
       " '/Users/knt/Library/Fonts/RictyDiscord-Regular.ttf',\n",
       " '/System/Library/Fonts/SFNSText-BoldItalicG3.otf',\n",
       " '/Library/Fonts/Verdana Bold Italic.ttf',\n",
       " '/System/Library/Fonts/SFNSDisplay-Light.otf',\n",
       " '/Library/Fonts/STIXIntUpDBol.otf',\n",
       " '/Library/Fonts/Microsoft/Wingdings 2.ttf',\n",
       " '/Library/Fonts/Zapfino.ttf',\n",
       " '/Library/Fonts/Microsoft/Times New Roman Bold.ttf',\n",
       " '/Library/Fonts/Microsoft/Palatino Linotype Bold Italic.ttf',\n",
       " '/Library/Fonts/STIXGeneralBolIta.otf',\n",
       " '/usr/X11R6/lib/X11/fonts/TTF/luximri.ttf',\n",
       " '/Library/Fonts/Verdana Bold.ttf',\n",
       " '/Library/Fonts/DIN Alternate Bold.ttf',\n",
       " '/usr/X11R6/lib/X11/fonts/TTF/VeraSeBd.ttf',\n",
       " '/usr/X11/lib/X11/fonts/TTF/VeraMoBd.ttf',\n",
       " '/Library/Fonts/Microsoft/Constantia Italic.ttf',\n",
       " '/Library/Fonts/Microsoft/himalaya.ttf',\n",
       " '/System/Library/Fonts/SFNSDisplay-Medium.otf',\n",
       " '/usr/X11R6/lib/X11/fonts/TTF/VeraMoBd.ttf',\n",
       " '/usr/X11/lib/X11/fonts/TTF/luximri.ttf',\n",
       " '/Library/Fonts/Microsoft/Palatino Linotype Italic.ttf',\n",
       " '/Library/Fonts/Hoefler Text Ornaments.ttf',\n",
       " '/Library/Fonts/Microsoft/Verdana Bold Italic.ttf',\n",
       " '/Library/Fonts/Bradley Hand Bold.ttf',\n",
       " '/Library/Fonts/YuppyTC-Regular.otf',\n",
       " '/usr/X11/lib/X11/fonts/OTF/SyrCOMJerusalem.otf',\n",
       " '/Library/Fonts/Microsoft/Arial Bold Italic.ttf',\n",
       " '/Library/Fonts/Microsoft/Corbel Bold Italic.ttf',\n",
       " '/usr/X11R6/lib/X11/fonts/TTF/VeraSe.ttf',\n",
       " '/Library/Fonts/Microsoft/Meiryo.ttf',\n",
       " '/Library/Fonts/Trebuchet MS Italic.ttf',\n",
       " '/Library/Fonts/Gurmukhi.ttf',\n",
       " '/usr/local/share/fonts/RictyDiscord-Regular.ttf',\n",
       " '/Library/Fonts/STIXGeneralItalic.otf',\n",
       " '/usr/X11/lib/X11/fonts/OTF/SyrCOMTurAbdin.otf',\n",
       " '/Library/Fonts/OsakaMono.ttf',\n",
       " '/usr/X11R6/lib/X11/fonts/TTF/luximb.ttf',\n",
       " '/Library/Fonts/Times New Roman Italic.ttf',\n",
       " '/Library/Fonts/Verdana Italic.ttf',\n",
       " '/Library/Fonts/Wingdings 2.ttf',\n",
       " '/Library/Fonts/SignPainter.otf',\n",
       " '/Library/Fonts/Microsoft/PMingLiU.ttf',\n",
       " '/Library/Fonts/Microsoft/Constantia.ttf',\n",
       " '/usr/X11R6/lib/X11/fonts/TTF/VeraMono.ttf',\n",
       " '/Library/Fonts/Microsoft/Franklin Gothic Book Italic.ttf',\n",
       " '/usr/X11/lib/X11/fonts/TTF/luxirb.ttf',\n",
       " '/Library/Fonts/Microsoft/Calibri.ttf',\n",
       " '/Library/Fonts/STIXSizThreeSymBol.otf',\n",
       " '/Library/Fonts/Arial Black.ttf',\n",
       " '/System/Library/Fonts/SFNSText-MediumItalic.otf',\n",
       " '/Library/Fonts/Microsoft/Perpetua Bold Italic.ttf',\n",
       " '/usr/X11R6/lib/X11/fonts/TTF/luxisr.ttf',\n",
       " '/Library/Fonts/Bodoni Ornaments.ttf',\n",
       " '/usr/local/share/fonts/Ricty-Bold.ttf',\n",
       " '/Library/Fonts/Microsoft/Gill Sans MT Italic.ttf',\n",
       " '/Library/Fonts/STIXIntUpReg.otf',\n",
       " '/Library/Fonts/STIXSizFourSymBol.otf',\n",
       " '/System/Library/Fonts/SFNSText-BoldItalicG1.otf',\n",
       " '/Library/Fonts/Bodoni 72 Smallcaps Book.ttf',\n",
       " '/usr/X11/lib/X11/fonts/OTF/SyrCOMJerusalemBold.otf',\n",
       " '/Library/Fonts/NISC18030.ttf',\n",
       " '/usr/X11/lib/X11/fonts/OTF/SyrCOMCtesiphon.otf',\n",
       " '/usr/X11R6/lib/X11/fonts/TTF/luximr.ttf',\n",
       " '/Library/Fonts/Microsoft/TaiLeb.ttf',\n",
       " '/usr/X11/lib/X11/fonts/OTF/SyrCOMMardin.otf',\n",
       " '/Library/Fonts/Microsoft/Candara Bold Italic.ttf',\n",
       " '/Library/Fonts/STIXIntSmReg.otf',\n",
       " '/Library/Fonts/Microsoft/Constantia Bold.ttf',\n",
       " '/Library/Fonts/Luminari.ttf',\n",
       " '/usr/X11/lib/X11/fonts/TTF/VeraSeBd.ttf',\n",
       " '/System/Library/Fonts/SFNSDisplay-Ultralight.otf',\n",
       " '/Library/Fonts/Microsoft/Gill Sans MT Bold Italic.ttf',\n",
       " '/usr/X11R6/lib/X11/fonts/TTF/luxirb.ttf',\n",
       " '/Library/Fonts/Arial.ttf',\n",
       " '/Library/Fonts/Microsoft/Calibri Italic.ttf',\n",
       " '/Library/Fonts/Wingdings.ttf',\n",
       " '/Library/Fonts/Tahoma.ttf',\n",
       " '/usr/X11R6/lib/X11/fonts/TTF/luxisri.ttf',\n",
       " '/Library/Fonts/Microsoft/Lucida Console.ttf',\n",
       " '/usr/X11R6/lib/X11/fonts/TTF/VeraMoBI.ttf',\n",
       " '/Users/knt/Library/Fonts/Ricty-Regular.ttf',\n",
       " '/usr/X11/lib/X11/fonts/TTF/VeraIt.ttf',\n",
       " '/Library/Fonts/Microsoft/MingLiU.ttf',\n",
       " '/Library/Fonts/STIXSizOneSymReg.otf',\n",
       " '/Library/Fonts/Courier New Italic.ttf',\n",
       " '/Library/Fonts/Courier New.ttf',\n",
       " '/Library/Fonts/Andale Mono.ttf',\n",
       " '/usr/X11R6/lib/X11/fonts/TTF/luxirbi.ttf',\n",
       " '/Library/Fonts/Times New Roman Bold.ttf',\n",
       " '/Library/Fonts/Microsoft/Bookshelf Symbol 7.ttf',\n",
       " '/usr/local/share/fonts/RictyDiscord-Bold.ttf',\n",
       " '/Library/Fonts/Trattatello.ttf',\n",
       " '/usr/X11/lib/X11/fonts/OTF/SyrCOMMalankara.otf',\n",
       " '/usr/X11/lib/X11/fonts/TTF/VeraMono.ttf',\n",
       " '/Library/Fonts/STIXSizTwoSymBol.otf',\n",
       " '/System/Library/Fonts/SFNSText-Bold.otf',\n",
       " '/Library/Fonts/Sathu.ttf',\n",
       " '/usr/X11/lib/X11/fonts/OTF/SyrCOMJerusalemItalic.otf',\n",
       " '/System/Library/Fonts/SFNSText-BoldG1.otf',\n",
       " '/usr/X11/lib/X11/fonts/OTF/SyrCOMKharput.otf',\n",
       " '/System/Library/Fonts/SFNSText-RegularItalic.otf',\n",
       " '/Library/Fonts/Arial Narrow Italic.ttf',\n",
       " '/Library/Fonts/STIXNonUniIta.otf',\n",
       " '/Library/Fonts/Microsoft/Times New Roman.ttf',\n",
       " '/Library/Fonts/STIXGeneralBol.otf',\n",
       " '/usr/X11/lib/X11/fonts/TTF/luxisbi.ttf',\n",
       " '/Library/Fonts/WeibeiSC-Bold.otf',\n",
       " '/System/Library/Fonts/LastResort.ttf',\n",
       " '/System/Library/Fonts/SFNSText-LightItalic.otf',\n",
       " '/Library/Fonts/Microsoft Sans Serif.ttf',\n",
       " '/System/Library/Fonts/SFNSText-RegularItalicG1.otf',\n",
       " '/Library/Fonts/Microsoft/MS Reference Sans Serif.ttf',\n",
       " '/Library/Fonts/Brush Script.ttf',\n",
       " '/Library/Fonts/Courier New Bold Italic.ttf',\n",
       " '/Users/knt/Library/Fonts/Ricty-Bold.ttf',\n",
       " '/Library/Fonts/Ayuthaya.ttf',\n",
       " '/Library/Fonts/Courier New Bold.ttf',\n",
       " '/usr/X11/lib/X11/fonts/OTF/SyrCOMQenNeshrin.otf',\n",
       " '/Library/Fonts/Microsoft/SimHei.ttf',\n",
       " '/Library/Fonts/Georgia Bold.ttf',\n",
       " '/Library/Fonts/Osaka.ttf',\n",
       " '/usr/X11/lib/X11/fonts/OTF/SyrCOMAdiabene.otf',\n",
       " '/Library/Fonts/WawaTC-Regular.otf',\n",
       " '/System/Library/Fonts/SFNSDisplay-Semibold.otf',\n",
       " '/Library/Fonts/InaiMathi.ttf',\n",
       " '/usr/X11/lib/X11/fonts/OTF/SyrCOMAntioch.otf',\n",
       " '/System/Library/Fonts/Symbol.ttf',\n",
       " '/Library/Fonts/Microsoft/Gill Sans MT.ttf',\n",
       " '/usr/X11/lib/X11/fonts/TTF/Vera.ttf',\n",
       " '/Library/Fonts/STIXIntUpSmReg.otf',\n",
       " '/usr/X11/lib/X11/fonts/TTF/VeraBd.ttf',\n",
       " '/usr/X11/lib/X11/fonts/OTF/SyrCOMMardinBold.otf',\n",
       " '/Library/Fonts/Microsoft/Times New Roman Bold Italic.ttf',\n",
       " '/System/Library/Fonts/SFNSText-Heavy.otf',\n",
       " '/System/Library/Fonts/SFNSDisplay-Bold.otf',\n",
       " '/Library/Fonts/Microsoft/MingLiU_HKSCS-ExtB.ttf',\n",
       " '/Library/Fonts/Arial Italic.ttf',\n",
       " '/Users/knt/Library/Fonts/RictyDiscord-Bold.ttf',\n",
       " '/System/Library/Fonts/SFNSText-Medium.otf',\n",
       " '/Library/Fonts/Microsoft/MS Mincho.ttf',\n",
       " '/Library/Fonts/Arial Rounded Bold.ttf',\n",
       " '/Library/Fonts/Comic Sans MS.ttf',\n",
       " '/Library/Fonts/Microsoft/Candara.ttf',\n",
       " '/Library/Fonts/Microsoft/Verdana Italic.ttf',\n",
       " '/usr/X11R6/lib/X11/fonts/TTF/luxirr.ttf',\n",
       " '/Library/Fonts/Microsoft/Corbel Bold.ttf',\n",
       " '/System/Library/Fonts/SFNSDisplay-Regular.otf',\n",
       " '/Library/Fonts/Verdana.ttf',\n",
       " '/Library/Fonts/Mishafi Gold.ttf',\n",
       " '/usr/local/share/fonts/migu-1m-regular.ttf',\n",
       " '/Library/Fonts/Microsoft/MS Reference Specialty.ttf',\n",
       " '/Library/Fonts/Microsoft/Meiryo Italic.ttf',\n",
       " '/Library/Fonts/Microsoft/Cambria.ttf',\n",
       " '/Library/Fonts/Microsoft/Franklin Gothic Book.ttf',\n",
       " '/Library/Fonts/Microsoft/Gill Sans MT Bold.ttf',\n",
       " '/Library/Fonts/Farisi.ttf',\n",
       " '/usr/X11/lib/X11/fonts/TTF/luxirri.ttf',\n",
       " '/Library/Fonts/Microsoft/MingLiU-ExtB.ttf',\n",
       " '/System/Library/Fonts/SFNSText-BoldItalic.otf',\n",
       " '/usr/X11/lib/X11/fonts/OTF/SyrCOMMidyat.otf',\n",
       " '/Library/Fonts/STIXIntUpSmBol.otf',\n",
       " '/Library/Fonts/Microsoft/Perpetua Italic.ttf',\n",
       " '/Library/Fonts/Microsoft/Franklin Gothic Medium Italic.ttf',\n",
       " '/Library/Fonts/Trebuchet MS.ttf',\n",
       " '/Library/Fonts/Arial Narrow Bold.ttf',\n",
       " '/usr/X11/lib/X11/fonts/OTF/SyrCOMUrhoy.otf',\n",
       " '/usr/local/share/fonts/Inconsolata.otf',\n",
       " '/Library/Fonts/华文黑体.ttf',\n",
       " '/System/Library/Fonts/SFNSDisplay-Black.otf',\n",
       " '/usr/X11R6/lib/X11/fonts/TTF/luximbi.ttf',\n",
       " '/Library/Fonts/Webdings.ttf',\n",
       " '/Library/Fonts/Microsoft/MS Gothic.ttf',\n",
       " '/Library/Fonts/Diwan Thuluth.ttf',\n",
       " '/Library/Fonts/Microsoft/Verdana Bold.ttf',\n",
       " '/Library/Fonts/华文仿宋.ttf',\n",
       " '/Library/Fonts/Microsoft/Arial Bold.ttf',\n",
       " '/Library/Fonts/Microsoft/Tw Cen MT Bold.ttf',\n",
       " '/Library/Fonts/Herculanum.ttf',\n",
       " '/usr/X11R6/lib/X11/fonts/TTF/luxisb.ttf',\n",
       " '/Library/Fonts/HeadlineA.ttf',\n",
       " '/Library/Fonts/Impact.ttf',\n",
       " '/Library/Fonts/Microsoft/HGRSMP.TTF',\n",
       " '/usr/X11/lib/X11/fonts/OTF/SyrCOMBatnan.otf',\n",
       " '/usr/X11/lib/X11/fonts/OTF/SyrCOMTalada.otf',\n",
       " '/Library/Fonts/Khmer Sangam MN.ttf',\n",
       " '/Library/Fonts/Georgia.ttf',\n",
       " '/Library/Fonts/儷黑 Pro.ttf',\n",
       " '/Library/Fonts/Yu Gothic Bold.otf',\n",
       " '/Library/Fonts/STIXIntDReg.otf',\n",
       " '/usr/X11/lib/X11/fonts/OTF/SyrCOMNisibinOutline.otf',\n",
       " '/Library/Fonts/Microsoft/Calibri Bold Italic.ttf',\n",
       " '/Library/Fonts/Microsoft/Meiryo Bold Italic.ttf',\n",
       " '/System/Library/Fonts/Apple Braille Pinpoint 8 Dot.ttf',\n",
       " '/Library/Fonts/儷宋 Pro.ttf',\n",
       " '/Library/Fonts/Microsoft/MS PMincho.ttf',\n",
       " '/usr/X11R6/lib/X11/fonts/TTF/VeraMoIt.ttf',\n",
       " '/usr/X11/lib/X11/fonts/TTF/luximbi.ttf',\n",
       " '/Library/Fonts/Kokonor.ttf',\n",
       " '/System/Library/Fonts/SFNSText-HeavyItalic.otf',\n",
       " '/usr/X11/lib/X11/fonts/TTF/luxisri.ttf',\n",
       " '/Library/Fonts/Trebuchet MS Bold.ttf',\n",
       " '/Library/Fonts/WawaSC-Regular.otf',\n",
       " '/Library/Fonts/Pilgiche.ttf',\n",
       " '/Library/Fonts/Microsoft/Batang.ttf',\n",
       " '/Library/Fonts/PCmyoungjo.ttf',\n",
       " '/usr/X11/lib/X11/fonts/TTF/luxisb.ttf',\n",
       " '/usr/local/share/fonts/Ricty-Regular.ttf',\n",
       " '/Library/Fonts/Microsoft/Gabriola.ttf',\n",
       " '/System/Library/Fonts/SFNSText-RegularG3.otf',\n",
       " '/Library/Fonts/WeibeiTC-Bold.otf',\n",
       " '/Library/Fonts/Microsoft/SimSun-ExtB.ttf',\n",
       " '/Library/Fonts/Trebuchet MS Bold Italic.ttf',\n",
       " '/Library/Fonts/Microsoft/Wingdings 3.ttf',\n",
       " '/Library/Fonts/STIXGeneral.otf',\n",
       " '/usr/X11R6/lib/X11/fonts/TTF/VeraBI.ttf',\n",
       " '/Library/Fonts/Times New Roman Bold Italic.ttf',\n",
       " '/Library/Fonts/Microsoft/Cambria Bold.ttf',\n",
       " '/Library/Fonts/STIXIntSmBol.otf',\n",
       " '/Library/Fonts/Microsoft/Meiryo Bold.ttf',\n",
       " '/Library/Fonts/Microsoft/monbaiti.ttf',\n",
       " '/Library/Fonts/Microsoft/SimSun.ttf',\n",
       " '/Library/Fonts/AppleGothic.ttf',\n",
       " '/Library/Fonts/Microsoft/Franklin Gothic Medium.ttf',\n",
       " '/Library/Fonts/STIXIntUpDReg.otf',\n",
       " '/Library/Fonts/Microsoft/Palatino Linotype.ttf',\n",
       " '/System/Library/Fonts/Apple Braille Outline 6 Dot.ttf',\n",
       " '/Library/Fonts/Lao Sangam MN.ttf',\n",
       " '/Library/Fonts/STIXSizOneSymBol.otf',\n",
       " '/usr/X11R6/lib/X11/fonts/TTF/luxisbi.ttf',\n",
       " '/System/Library/Fonts/SFNSText-BoldG3.otf',\n",
       " '/System/Library/Fonts/Apple Braille Pinpoint 6 Dot.ttf',\n",
       " '/Library/Fonts/Gungseouche.ttf',\n",
       " '/Library/Fonts/Microsoft/Corbel Italic.ttf',\n",
       " '/usr/X11/lib/X11/fonts/TTF/VeraBI.ttf',\n",
       " '/Library/Fonts/Microsoft/Tw Cen MT.ttf',\n",
       " '/usr/X11/lib/X11/fonts/OTF/SyrCOMEdessa.otf',\n",
       " '/usr/X11/lib/X11/fonts/TTF/luximr.ttf',\n",
       " '/System/Library/Fonts/SFNSText-BoldItalicG2.otf',\n",
       " '/Library/Fonts/STIXNonUniBol.otf',\n",
       " '/Library/Fonts/Yu Gothic Medium.otf',\n",
       " '/Library/Fonts/Microsoft/Candara Bold.ttf',\n",
       " '/Library/Fonts/Microsoft/PMingLiU-ExtB.ttf',\n",
       " '/Library/Fonts/AppleMyungjo.ttf',\n",
       " '/Library/Fonts/Microsoft/Verdana.ttf',\n",
       " '/System/Library/Fonts/SFNSText-RegularG1.otf',\n",
       " '/Library/Fonts/Microsoft/Perpetua.ttf',\n",
       " '/Library/Fonts/STIXSizTwoSymReg.otf',\n",
       " '/Library/Fonts/Microsoft/taile.ttf',\n",
       " '/Library/Fonts/Krungthep.ttf',\n",
       " '/usr/X11/lib/X11/fonts/OTF/SyrCOMJerusalemOutline.otf',\n",
       " '/Library/Fonts/Microsoft/Candara Italic.ttf',\n",
       " '/System/Library/Fonts/Apple Braille.ttf',\n",
       " '/Library/Fonts/DIN Condensed Bold.ttf',\n",
       " '/System/Library/Fonts/SFNSText-Regular.otf',\n",
       " '/Library/Fonts/Microsoft/Cambria Bold Italic.ttf',\n",
       " '/usr/X11R6/lib/X11/fonts/TTF/Vera.ttf',\n",
       " '/Library/Fonts/BigCaslon.ttf',\n",
       " '/Library/Fonts/Microsoft/Corbel.ttf',\n",
       " '/Library/Fonts/Microsoft/Consolas Italic.ttf',\n",
       " '/Library/Fonts/Microsoft/Cambria Math.ttf',\n",
       " '/Library/Fonts/Tahoma Bold.ttf',\n",
       " '/System/Library/Fonts/SFNSText-RegularG2.otf',\n",
       " '/usr/X11/lib/X11/fonts/OTF/SyrCOMNisibin.otf',\n",
       " '/Library/Fonts/Times New Roman.ttf',\n",
       " '/System/Library/Fonts/SFNSText-Semibold.otf',\n",
       " '/Library/Fonts/STIXVar.otf',\n",
       " '/usr/X11/lib/X11/fonts/OTF/SyrCOMUrhoyBold.otf',\n",
       " '/usr/X11/lib/X11/fonts/OTF/SyrCOMBatnanBold.otf',\n",
       " '/Library/Fonts/Silom.ttf',\n",
       " '/Library/Fonts/STIXIntDBol.otf',\n",
       " '/Library/Fonts/STIXSizThreeSymReg.otf',\n",
       " '/Library/Fonts/Microsoft/Tw Cen MT Italic.ttf',\n",
       " '/Library/Fonts/Arial Narrow.ttf',\n",
       " '/usr/X11/lib/X11/fonts/TTF/VeraMoBI.ttf',\n",
       " '/Library/Fonts/Microsoft/Consolas.ttf',\n",
       " '/usr/X11R6/lib/X11/fonts/TTF/VeraBd.ttf',\n",
       " '/Library/Fonts/Skia.ttf',\n",
       " '/Library/Fonts/Arial Bold.ttf',\n",
       " '/System/Library/Fonts/SFNSDisplay-Heavy.otf',\n",
       " '/Library/Fonts/Microsoft/Lucida Sans Unicode.ttf',\n",
       " '/Library/Fonts/Microsoft/Consolas Bold Italic.ttf',\n",
       " '/Library/Fonts/Microsoft/msyi.ttf',\n",
       " '/usr/X11/lib/X11/fonts/TTF/VeraMoIt.ttf',\n",
       " '/Library/Fonts/Microsoft/Cambria Italic.ttf',\n",
       " '/System/Library/Fonts/Apple Color Emoji.ttf',\n",
       " '/usr/X11/lib/X11/fonts/TTF/luxirr.ttf',\n",
       " '/usr/X11R6/lib/X11/fonts/TTF/VeraIt.ttf',\n",
       " '/System/Library/Fonts/SFNSText-RegularItalicG3.otf',\n",
       " '/System/Library/Fonts/SFNSDisplay-Thin.otf',\n",
       " '/Library/Fonts/STIXSizFiveSymReg.otf',\n",
       " '/System/Library/Fonts/Keyboard.ttf',\n",
       " '/Library/Fonts/Microsoft/Consolas Bold.ttf',\n",
       " '/Library/Fonts/STIXNonUni.otf',\n",
       " '/Library/Fonts/Apple Chancery.ttf',\n",
       " '/Library/Fonts/Microsoft/Brush Script.ttf',\n",
       " '/Library/Fonts/Microsoft/mingliu_hkscs.ttf',\n",
       " '/Library/Fonts/Wingdings 3.ttf',\n",
       " '/Library/Fonts/Microsoft/Calibri Bold.ttf',\n",
       " '/Library/Fonts/Microsoft/Gulim.ttf',\n",
       " '/Library/Fonts/STIXIntUpBol.otf',\n",
       " '/Library/Fonts/Microsoft/Tw Cen MT Bold Italic.ttf',\n",
       " '/usr/X11/lib/X11/fonts/TTF/VeraSe.ttf',\n",
       " '/System/Library/Fonts/ZapfDingbats.ttf',\n",
       " '/Library/Fonts/Microsoft/Marlett.ttf',\n",
       " '/usr/X11/lib/X11/fonts/OTF/GohaTibebZemen.otf']"
      ]
     },
     "execution_count": 28,
     "metadata": {},
     "output_type": "execute_result"
    }
   ],
   "source": [
    "import matplotlib\n",
    "matplotlib.font_manager.findSystemFonts()"
   ]
  },
  {
   "cell_type": "code",
   "execution_count": 29,
   "metadata": {},
   "outputs": [],
   "source": [
    "# フォントキャッシュを更新\n",
    "# matplotlib.font_manager._rebuild()"
   ]
  },
  {
   "cell_type": "code",
   "execution_count": 30,
   "metadata": {
    "scrolled": false
   },
   "outputs": [
    {
     "data": {
      "image/png": "[encoded data removed]",
      "text/plain": [
       "<Figure size 432x288 with 1 Axes>"
      ]
     },
     "metadata": {
      "image/png": {
       "height": 250,
       "width": 375
      },
      "needs_background": "light"
     },
     "output_type": "display_data"
    }
   ],
   "source": [
    "np.random.seed(2)\n",
    "pd.DataFrame(np.random.exponential(1, 10)).boxplot();"
   ]
  },
  {
   "cell_type": "code",
   "execution_count": 31,
   "metadata": {},
   "outputs": [
    {
     "data": {
      "image/png": "[encoded data removed]",
      "text/plain": [
       "<Figure size 432x288 with 1 Axes>"
      ]
     },
     "metadata": {
      "image/png": {
       "height": 263,
       "width": 371
      },
      "needs_background": "light"
     },
     "output_type": "display_data"
    }
   ],
   "source": [
    "np.random.seed(1)\n",
    "df = pd.DataFrame(np.random.exponential(8, 20), columns=['A'])\n",
    "df.hist(range=(0, 20), bins=4);"
   ]
  },
  {
   "cell_type": "code",
   "execution_count": 32,
   "metadata": {},
   "outputs": [
    {
     "data": {
      "text/plain": [
       "(0, 5]      14\n",
       "(5, 10]      4\n",
       "(15, 20]     1\n",
       "(10, 15]     1\n",
       "Name: A, dtype: int64"
      ]
     },
     "execution_count": 32,
     "metadata": {},
     "output_type": "execute_result"
    }
   ],
   "source": [
    "pd.value_counts(pd.cut(df.A, range(0, 25, 5)))"
   ]
  }
 ],
 "metadata": {
  "kernelspec": {
   "display_name": "Python 3",
   "language": "python",
   "name": "python3"
  },
  "language_info": {
   "codemirror_mode": {
    "name": "ipython",
    "version": 3
   },
   "file_extension": ".py",
   "mimetype": "text/x-python",
   "name": "python",
   "nbconvert_exporter": "python",
   "pygments_lexer": "ipython3",
   "version": "3.7.2"
  },
  "toc": {
   "nav_menu": {},
   "number_sections": false,
   "sideBar": true,
   "skip_h1_title": false,
   "toc_cell": false,
   "toc_position": {},
   "toc_section_display": "block",
   "toc_window_display": true
  },
  "varInspector": {
   "cols": {
    "lenName": 16,
    "lenType": 16,
    "lenVar": 40
   },
   "kernels_config": {
    "python": {
     "delete_cmd_postfix": "",
     "delete_cmd_prefix": "del ",
     "library": "var_list.py",
     "varRefreshCmd": "print(var_dic_list())"
    },
    "r": {
     "delete_cmd_postfix": ") ",
     "delete_cmd_prefix": "rm(",
     "library": "var_list.r",
     "varRefreshCmd": "cat(var_dic_list()) "
    }
   },
   "types_to_exclude": [
    "module",
    "function",
    "builtin_function_or_method",
    "instance",
    "_Feature"
   ],
   "window_display": false
  }
 },
 "nbformat": 4,
 "nbformat_minor": 2
}
