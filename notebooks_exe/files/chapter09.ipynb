{
 "cells": [
  {
   "cell_type": "markdown",
   "metadata": {},
   "source": [
    "## 第9章 最適化アラカルト"
   ]
  },
  {
   "cell_type": "markdown",
   "metadata": {},
   "source": [
    "### 9.2 ソルバーの威力"
   ]
  },
  {
   "cell_type": "code",
   "execution_count": 1,
   "metadata": {},
   "outputs": [],
   "source": [
    "import numpy as np\n",
    "from pulp import LpProblem,LpMaximize,LpVariable,LpBinary,lpDot\n",
    "def make(n):\n",
    "    np.random.seed(1)  # 乱数シードを設定することで、同じ乱数を生成\n",
    "    w = 1 + np.random.rand(n)\n",
    "    p = w + np.random.randn(n) * 0.1\n",
    "    m = LpProblem(sense=LpMaximize)\n",
    "    v = [LpVariable('x%05d'%i,cat=LpBinary) for i in range(n)]\n",
    "    m += lpDot(p, v)\n",
    "    m += lpDot(w, v) <= int(n*1.25)\n",
    "    return m"
   ]
  },
  {
   "cell_type": "code",
   "execution_count": 2,
   "metadata": {},
   "outputs": [
    {
     "name": "stdout",
     "output_type": "stream",
     "text": [
      "194 ms ± 3.93 ms per loop (mean ± std. dev. of 3 runs, 3 loops each)\n"
     ]
    }
   ],
   "source": [
    "m = make(100)\n",
    "%timeit -r3 -n3 m.solve()"
   ]
  },
  {
   "cell_type": "markdown",
   "metadata": {},
   "source": [
    "### 9.3 ナップサック問題の結果の図示"
   ]
  },
  {
   "cell_type": "code",
   "execution_count": 3,
   "metadata": {},
   "outputs": [
    {
     "data": {
      "image/png": "[encoded data removed]",
      "text/plain": [
       "<Figure size 432x288 with 1 Axes>"
      ]
     },
     "metadata": {
      "needs_background": "light"
     },
     "output_type": "display_data"
    },
    {
     "data": {
      "image/png": "[encoded data removed]",
      "text/plain": [
       "<Figure size 432x288 with 1 Axes>"
      ]
     },
     "metadata": {
      "needs_background": "light"
     },
     "output_type": "display_data"
    },
    {
     "data": {
      "image/png": "[encoded data removed]",
      "text/plain": [
       "<Figure size 432x288 with 1 Axes>"
      ]
     },
     "metadata": {
      "needs_background": "light"
     },
     "output_type": "display_data"
    }
   ],
   "source": [
    "%matplotlib inline\n",
    "import numpy as np, matplotlib.pyplot as plt\n",
    "from ortoolpy import knapsack  # 厳密解法\n",
    "def greedy(siz, prf, capa):  # 貪欲法\n",
    "    p, r = 0, []\n",
    "    for i in range(len(siz)-1, -1, -1):\n",
    "        if siz[i] <= capa:\n",
    "            capa -= siz[i]\n",
    "            p += prf[i]\n",
    "            r.append(i)\n",
    "    return p, r\n",
    "def stingy(siz, prf, capa):  # 吝嗇法\n",
    "    p, r = 0, []\n",
    "    rm = siz.sum()\n",
    "    for i in range(len(siz)):\n",
    "        if 0 < rm-siz[i] <= capa and siz[i] <= capa:\n",
    "            capa -= siz[i]\n",
    "            p += prf[i]\n",
    "            r.append(i)\n",
    "        rm -= siz[i]\n",
    "    return p, r\n",
    "np.random.seed(0)\n",
    "n = 100  # アイテム数\n",
    "siz = np.random.uniform(0.1, 1.0, n)  # 大きさ\n",
    "prf = siz * np.random.lognormal(1, 0.1, n)  # 価値\n",
    "eff = prf / siz  # 効率\n",
    "siz, prf, eff = np.array([siz,prf,eff]).T[eff.argsort()].T\n",
    "pl1, pl2, pl3, rl1, rl2, rl3 = [], [], [], [], [], []\n",
    "for capa in np.arange(2, siz.sum() + 2, 2):\n",
    "    p1, r1 = knapsack(siz, prf, capa)\n",
    "    pl1.append(p1)\n",
    "    rl1.append([int(i in r1) for i in range(n)])\n",
    "    p2, r2 = greedy(siz, prf, capa)\n",
    "    pl2.append(p2)\n",
    "    rl2.append([int(i in r2) for i in range(n)])\n",
    "    p3, r3 = stingy(siz, prf, capa)\n",
    "    pl3.append(p3)\n",
    "    rl3.append([int(i in r3) for i in range(n)])\n",
    "plt.imshow(1 - np.array(rl1).T, cmap='gray')\n",
    "plt.show()\n",
    "plt.imshow(1 - np.array(rl2).T, cmap='gray')\n",
    "plt.show()\n",
    "plt.imshow(1 - np.array(rl3).T, cmap='gray');"
   ]
  },
  {
   "cell_type": "code",
   "execution_count": 4,
   "metadata": {},
   "outputs": [
    {
     "data": {
      "image/png": "[encoded data removed]",
      "text/plain": [
       "<Figure size 432x288 with 1 Axes>"
      ]
     },
     "metadata": {
      "needs_background": "light"
     },
     "output_type": "display_data"
    }
   ],
   "source": [
    "plt.ylim((0.9, 1.02))\n",
    "plt.hlines(1, 0, len(pl1))\n",
    "plt.plot(np.array(pl2[2:]) / np.array(pl1[2:]));"
   ]
  },
  {
   "cell_type": "code",
   "execution_count": 5,
   "metadata": {},
   "outputs": [
    {
     "data": {
      "image/png": "[encoded data removed]",
      "text/plain": [
       "<Figure size 432x288 with 1 Axes>"
      ]
     },
     "metadata": {
      "needs_background": "light"
     },
     "output_type": "display_data"
    }
   ],
   "source": [
    "plt.ylim((0.9, 1.02))\n",
    "plt.hlines(1, 0, len(pl1))\n",
    "plt.plot(np.array(pl3[2:]) / pl1[2:]);"
   ]
  },
  {
   "cell_type": "markdown",
   "metadata": {},
   "source": [
    "### 9.4 ミニサムとミニマックスとは"
   ]
  },
  {
   "cell_type": "code",
   "execution_count": 6,
   "metadata": {},
   "outputs": [
    {
     "data": {
      "text/html": [
       "<div>\n",
       "<style scoped>\n",
       "    .dataframe tbody tr th:only-of-type {\n",
       "        vertical-align: middle;\n",
       "    }\n",
       "\n",
       "    .dataframe tbody tr th {\n",
       "        vertical-align: top;\n",
       "    }\n",
       "\n",
       "    .dataframe thead th {\n",
       "        text-align: right;\n",
       "    }\n",
       "</style>\n",
       "<table border=\"1\" class=\"dataframe\">\n",
       "  <thead>\n",
       "    <tr style=\"text-align: right;\">\n",
       "      <th></th>\n",
       "      <th>ユーザ00</th>\n",
       "      <th>ユーザ01</th>\n",
       "      <th>ユーザ02</th>\n",
       "      <th>ユーザ03</th>\n",
       "      <th>ユーザ04</th>\n",
       "      <th>ユーザ05</th>\n",
       "      <th>ユーザ06</th>\n",
       "      <th>ユーザ07</th>\n",
       "      <th>ユーザ08</th>\n",
       "      <th>ユーザ09</th>\n",
       "      <th>...</th>\n",
       "      <th>ユーザ91</th>\n",
       "      <th>ユーザ92</th>\n",
       "      <th>ユーザ93</th>\n",
       "      <th>ユーザ94</th>\n",
       "      <th>ユーザ95</th>\n",
       "      <th>ユーザ96</th>\n",
       "      <th>ユーザ97</th>\n",
       "      <th>ユーザ98</th>\n",
       "      <th>ユーザ99</th>\n",
       "      <th>Var</th>\n",
       "    </tr>\n",
       "  </thead>\n",
       "  <tbody>\n",
       "    <tr>\n",
       "      <th>商品000</th>\n",
       "      <td>0.417022</td>\n",
       "      <td>0.720324</td>\n",
       "      <td>0.000114</td>\n",
       "      <td>0.302333</td>\n",
       "      <td>0.146756</td>\n",
       "      <td>0.092339</td>\n",
       "      <td>0.186260</td>\n",
       "      <td>0.345561</td>\n",
       "      <td>0.396767</td>\n",
       "      <td>0.538817</td>\n",
       "      <td>...</td>\n",
       "      <td>0.949489</td>\n",
       "      <td>0.449912</td>\n",
       "      <td>0.578390</td>\n",
       "      <td>0.408137</td>\n",
       "      <td>0.237027</td>\n",
       "      <td>0.903380</td>\n",
       "      <td>0.573679</td>\n",
       "      <td>0.002870</td>\n",
       "      <td>0.617145</td>\n",
       "      <td>v002701</td>\n",
       "    </tr>\n",
       "    <tr>\n",
       "      <th>商品001</th>\n",
       "      <td>0.326645</td>\n",
       "      <td>0.527058</td>\n",
       "      <td>0.885942</td>\n",
       "      <td>0.357270</td>\n",
       "      <td>0.908535</td>\n",
       "      <td>0.623360</td>\n",
       "      <td>0.015821</td>\n",
       "      <td>0.929437</td>\n",
       "      <td>0.690897</td>\n",
       "      <td>0.997323</td>\n",
       "      <td>...</td>\n",
       "      <td>0.065961</td>\n",
       "      <td>0.735066</td>\n",
       "      <td>0.772178</td>\n",
       "      <td>0.907816</td>\n",
       "      <td>0.931972</td>\n",
       "      <td>0.013952</td>\n",
       "      <td>0.234362</td>\n",
       "      <td>0.616778</td>\n",
       "      <td>0.949016</td>\n",
       "      <td>v002702</td>\n",
       "    </tr>\n",
       "  </tbody>\n",
       "</table>\n",
       "<p>2 rows × 101 columns</p>\n",
       "</div>"
      ],
      "text/plain": [
       "          ユーザ00     ユーザ01     ユーザ02     ユーザ03     ユーザ04     ユーザ05     ユーザ06  \\\n",
       "商品000  0.417022  0.720324  0.000114  0.302333  0.146756  0.092339  0.186260   \n",
       "商品001  0.326645  0.527058  0.885942  0.357270  0.908535  0.623360  0.015821   \n",
       "\n",
       "          ユーザ07     ユーザ08     ユーザ09   ...        ユーザ91     ユーザ92     ユーザ93  \\\n",
       "商品000  0.345561  0.396767  0.538817   ...     0.949489  0.449912  0.578390   \n",
       "商品001  0.929437  0.690897  0.997323   ...     0.065961  0.735066  0.772178   \n",
       "\n",
       "          ユーザ94     ユーザ95     ユーザ96     ユーザ97     ユーザ98     ユーザ99      Var  \n",
       "商品000  0.408137  0.237027  0.903380  0.573679  0.002870  0.617145  v002701  \n",
       "商品001  0.907816  0.931972  0.013952  0.234362  0.616778  0.949016  v002702  \n",
       "\n",
       "[2 rows x 101 columns]"
      ]
     },
     "execution_count": 6,
     "metadata": {},
     "output_type": "execute_result"
    }
   ],
   "source": [
    "%matplotlib inline\n",
    "import numpy as np, pandas as pd, matplotlib.pyplot as plt\n",
    "from pulp import LpProblem, LpBinary, lpDot, lpSum, value\n",
    "from ortoolpy import addvar, addvars\n",
    "商品数, ユーザ数 = 1000, 100\n",
    "np.random.seed(1)\n",
    "df = pd.DataFrame(np.random.rand(商品数, ユーザ数),\n",
    "    index=[f'商品{i:03}' for i in range(商品数)],\n",
    "    columns=[f'ユーザ{j:02}' for j in range(ユーザ数)])\n",
    "addvars(df)\n",
    "df[:2]"
   ]
  },
  {
   "cell_type": "code",
   "execution_count": 7,
   "metadata": {},
   "outputs": [
    {
     "data": {
      "image/png": "[encoded data removed]",
      "text/plain": [
       "<Figure size 432x288 with 1 Axes>"
      ]
     },
     "metadata": {
      "needs_background": "light"
     },
     "output_type": "display_data"
    }
   ],
   "source": [
    "it = [100, 200, 500, 1000]  # 商品数リスト\n",
    "tm = []\n",
    "for n in it:\n",
    "    dfs = df[:n]\n",
    "    m1 = LpProblem()  # ミニサム問題\n",
    "    m1 += lpDot(dfs.T[:-1].sum(), dfs.Var)  # 合計(サム)\n",
    "    m1 += lpSum(dfs.Var) <= n // 2\n",
    "    m1.solve()\n",
    "    m2 = LpProblem()  # ミニマックス問題\n",
    "    y = addvar()\n",
    "    # y >= max(ユーザj の価値)\n",
    "    for j in range(ユーザ数):\n",
    "        m2 += y >= lpDot(dfs.iloc[:, j], dfs.Var)\n",
    "    m2 += y  # 合計(マックス)\n",
    "    m2 += lpSum(dfs.Var) <= n // 2\n",
    "    m2.solve()\n",
    "    tm.append((m1.solutionTime, m2.solutionTime))\n",
    "plt.plot(it, tm)\n",
    "plt.legend(['min-sum','min-max'], loc='upper left');"
   ]
  },
  {
   "cell_type": "markdown",
   "metadata": {},
   "source": [
    "### 9.6 ビンパッキング問題に対するアプローチの比較"
   ]
  },
  {
   "cell_type": "code",
   "execution_count": 8,
   "metadata": {},
   "outputs": [],
   "source": [
    "import numpy as np\n",
    "from pulp import LpProblem, lpSum, lpDot\n",
    "from ortoolpy import addvar, addvars, addbinvars\n",
    "# n1, n2 = 3, 20 # 箱数, アイテム数\n",
    "n1, n2 = 3, 12 # 箱数, アイテム数\n",
    "np.random.seed(1)\n",
    "sz = np.random.randint(1, 1000000, n2)  # サイズ"
   ]
  },
  {
   "cell_type": "code",
   "execution_count": 9,
   "metadata": {},
   "outputs": [
    {
     "name": "stdout",
     "output_type": "stream",
     "text": [
      "CPU times: user 4.1 ms, sys: 7.96 ms, total: 12.1 ms\n",
      "Wall time: 1.05 s\n"
     ]
    },
    {
     "data": {
      "text/plain": [
       "1"
      ]
     },
     "execution_count": 9,
     "metadata": {},
     "output_type": "execute_result"
    }
   ],
   "source": [
    "# アプローチ0\n",
    "m = LpProblem()\n",
    "x = np.array(addbinvars(n1, n2))\n",
    "y = addvars(n1)\n",
    "z = addvar()\n",
    "m += z  # 目的関数\n",
    "for j in range(n2):\n",
    "    m += lpSum(x[:, j]) == 1\n",
    "for i in range(n1):\n",
    "    m += y[i] == lpSum(sz * x[i])\n",
    "    m += y[i] - sum(sz)/n1 <= z\n",
    "%time m.solve()"
   ]
  },
  {
   "cell_type": "code",
   "execution_count": 10,
   "metadata": {},
   "outputs": [
    {
     "name": "stdout",
     "output_type": "stream",
     "text": [
      "CPU times: user 5.18 ms, sys: 9.76 ms, total: 14.9 ms\n",
      "Wall time: 39.6 ms\n"
     ]
    },
    {
     "data": {
      "text/plain": [
       "1"
      ]
     },
     "execution_count": 10,
     "metadata": {},
     "output_type": "execute_result"
    }
   ],
   "source": [
    "# アプローチ1\n",
    "m = LpProblem()\n",
    "x = np.array(addbinvars(n1, n2))\n",
    "y = addvars(n1)\n",
    "for j in range(n2):\n",
    "    m += lpSum(x[:, j]) == 1\n",
    "for i in range(n1):\n",
    "    m += y[i] == lpSum(sz * x[i])\n",
    "#    m += y[i] <= 2646137\n",
    "    m += y[i] <= 1482001\n",
    "%time m.solve()"
   ]
  },
  {
   "cell_type": "code",
   "execution_count": 11,
   "metadata": {},
   "outputs": [
    {
     "name": "stdout",
     "output_type": "stream",
     "text": [
      "CPU times: user 4.21 ms, sys: 8.01 ms, total: 12.2 ms\n",
      "Wall time: 342 ms\n"
     ]
    },
    {
     "data": {
      "text/plain": [
       "1"
      ]
     },
     "execution_count": 11,
     "metadata": {},
     "output_type": "execute_result"
    }
   ],
   "source": [
    "# アプローチ2\n",
    "m = LpProblem()\n",
    "x = np.array(addbinvars(n1, n2))\n",
    "y = addvars(n1)\n",
    "m += lpSum(y)  # 目的関数（なくてもよい）\n",
    "for j in range(n2):\n",
    "    m += lpSum(x[:, j]) == 1\n",
    "for i in range(n1):\n",
    "    m += y[i] == lpSum(sz * x[i])\n",
    "#    m += y[i] <= 2646137\n",
    "    m += y[i] <= 1482001\n",
    "    if i:\n",
    "        m += y[i-1] <= y[i]\n",
    "%time m.solve()"
   ]
  },
  {
   "cell_type": "code",
   "execution_count": 12,
   "metadata": {},
   "outputs": [
    {
     "name": "stdout",
     "output_type": "stream",
     "text": [
      "CPU times: user 4.01 ms, sys: 7.68 ms, total: 11.7 ms\n",
      "Wall time: 570 ms\n"
     ]
    },
    {
     "data": {
      "text/plain": [
       "1"
      ]
     },
     "execution_count": 12,
     "metadata": {},
     "output_type": "execute_result"
    }
   ],
   "source": [
    "# アプローチ3\n",
    "m = LpProblem()\n",
    "x = np.array(addbinvars(n1, n2))\n",
    "y = addvars(n1)\n",
    "z = addvar()  # max\n",
    "m += z  # 目的関数\n",
    "for j in range(n2):\n",
    "    m += lpSum(x[:, j]) == 1\n",
    "for i in range(n1):\n",
    "    m += y[i] == lpSum(sz * x[i])\n",
    "    m += y[i] <= z\n",
    "%time m.solve()"
   ]
  },
  {
   "cell_type": "code",
   "execution_count": 13,
   "metadata": {
    "scrolled": true
   },
   "outputs": [
    {
     "name": "stdout",
     "output_type": "stream",
     "text": [
      "CPU times: user 3.15 ms, sys: 4.77 ms, total: 7.91 ms\n",
      "Wall time: 91.5 ms\n"
     ]
    },
    {
     "data": {
      "text/plain": [
       "1"
      ]
     },
     "execution_count": 13,
     "metadata": {},
     "output_type": "execute_result"
    }
   ],
   "source": [
    "# アプローチ4\n",
    "m = LpProblem(sense=LpMaximize)\n",
    "x = np.array(addbinvars(n1, n2))\n",
    "y = addvars(n1)\n",
    "z = addvar()  # min\n",
    "m += z  # 目的関数\n",
    "for j in range(n2):\n",
    "    m += lpSum(x[:, j]) == 1\n",
    "for i in range(n1):\n",
    "    m += y[i] == lpSum(sz * x[i])\n",
    "    m += y[i] >= z\n",
    "%time m.solve()"
   ]
  },
  {
   "cell_type": "code",
   "execution_count": 14,
   "metadata": {},
   "outputs": [
    {
     "name": "stdout",
     "output_type": "stream",
     "text": [
      "CPU times: user 3.39 ms, sys: 4.64 ms, total: 8.03 ms\n",
      "Wall time: 1.9 s\n"
     ]
    },
    {
     "data": {
      "text/plain": [
       "1"
      ]
     },
     "execution_count": 14,
     "metadata": {},
     "output_type": "execute_result"
    }
   ],
   "source": [
    "# アプローチ5\n",
    "m = LpProblem()\n",
    "x = np.array(addbinvars(n1, n2))\n",
    "y = addvars(n1)  # sum\n",
    "z = addvars(n1)  # diff\n",
    "w = addvars(n1)  # cost\n",
    "m += lpSum(w)  # 目的関数\n",
    "for j in range(n2):\n",
    "    m += lpSum(x[:, j]) == 1\n",
    "for i in range(n1):\n",
    "    m += y[i] == lpSum(sz * x[i])\n",
    "    m += z[i] >=  (y[i]-sum(sz)/n1)\n",
    "    m += z[i] >= -(y[i]-sum(sz)/n1)\n",
    "    m += w[i] >= 0.2 * z[i]\n",
    "    m += w[i] >= 0.5 * z[i] - 7.5\n",
    "    m += w[i] >=       z[i] - 25\n",
    "%time m.solve()"
   ]
  },
  {
   "cell_type": "markdown",
   "metadata": {},
   "source": [
    "### 9.7 線形緩和問題とは"
   ]
  },
  {
   "cell_type": "code",
   "execution_count": 15,
   "metadata": {},
   "outputs": [
    {
     "name": "stdout",
     "output_type": "stream",
     "text": [
      "[1.0, 0.0, 1.0]\n"
     ]
    }
   ],
   "source": [
    "from pulp import (LpProblem, LpMaximize, LpBinary,\n",
    "                  LpVariable, lpDot, value)\n",
    "m = LpProblem(sense=LpMaximize)  # 数理モデル\n",
    "x,y,z = [LpVariable(c, cat=LpBinary) for c in 'xyz'] # 変数\n",
    "m += lpDot([7,8,9], [x,y,z])  # 目的関数\n",
    "m += lpDot([6,7,8], [x,y,z]) <= 14  # 制約条件\n",
    "m.solve()  # 求解\n",
    "print([value(v) for v in [x,y,z]])  # 出力"
   ]
  },
  {
   "cell_type": "code",
   "execution_count": 16,
   "metadata": {},
   "outputs": [
    {
     "name": "stdout",
     "output_type": "stream",
     "text": [
      "[1.0, 1.0, 0.125]\n"
     ]
    }
   ],
   "source": [
    "from pulp import LpProblem,LpMaximize,LpVariable,lpDot,value\n",
    "m = LpProblem(sense=LpMaximize)  # 数理モデル\n",
    "# 変数\n",
    "x,y,z = [LpVariable(c,lowBound=0,upBound=1) for c in 'xyz']\n",
    "m += lpDot([7,8,9], [x,y,z])  # 目的関数\n",
    "m += lpDot([6,7,8], [x,y,z]) <= 14  # 制約条件\n",
    "m.solve()  # 求解\n",
    "print([value(v) for v in [x,y,z]])  # 出力"
   ]
  },
  {
   "cell_type": "code",
   "execution_count": 17,
   "metadata": {},
   "outputs": [],
   "source": [
    "from pulp import LpContinuous\n",
    "for v in m.variables():\n",
    "    v.cat = LpContinuous"
   ]
  },
  {
   "cell_type": "markdown",
   "metadata": {},
   "source": [
    "### 9.8 緩和固定法"
   ]
  },
  {
   "cell_type": "code",
   "execution_count": 18,
   "metadata": {},
   "outputs": [
    {
     "name": "stdout",
     "output_type": "stream",
     "text": [
      "1回目 ~2020-01-01:fix ~2020-01-08:window\n",
      "2回目 ~2020-01-04:fix ~2020-01-11:window\n",
      "3回目 ~2020-01-07:fix ~2020-01-14:window\n"
     ]
    }
   ],
   "source": [
    "import pandas as pd\n",
    "start = pd.datetime(2020, 1, 1)\n",
    "end = pd.datetime(2020, 1, 14)\n",
    "window = pd.Timedelta('7D')\n",
    "fix = pd.Timedelta('3D')\n",
    "last = end - window + fix - pd.Timedelta('1D')\n",
    "rng = pd.date_range(start, last, freq=fix)\n",
    "for i, d in enumerate(rng):\n",
    "    t = d.date()\n",
    "    print(f'{i+1}回目 ~{t}:fix ~{t+window}:window')"
   ]
  },
  {
   "cell_type": "markdown",
   "metadata": {},
   "source": [
    "### 9.11 双対問題"
   ]
  },
  {
   "cell_type": "code",
   "execution_count": 19,
   "metadata": {},
   "outputs": [],
   "source": [
    "import dual"
   ]
  },
  {
   "cell_type": "code",
   "execution_count": 20,
   "metadata": {},
   "outputs": [
    {
     "name": "stdout",
     "output_type": "stream",
     "text": [
      "max b^T y\n",
      "A^T y <= c\n",
      "y >= 0\n"
     ]
    }
   ],
   "source": [
    "%%dual\n",
    "min c^T x\n",
    "A x >= b\n",
    "x >= 0"
   ]
  },
  {
   "cell_type": "code",
   "execution_count": 21,
   "metadata": {},
   "outputs": [
    {
     "name": "stdout",
     "output_type": "stream",
     "text": [
      "min c^T x\n",
      "A x >= b\n",
      "x >= 0\n"
     ]
    }
   ],
   "source": [
    "%%dual\n",
    "max b^T y\n",
    "A^T y <= c\n",
    "y >= 0"
   ]
  },
  {
   "cell_type": "code",
   "execution_count": 22,
   "metadata": {},
   "outputs": [
    {
     "name": "stdout",
     "output_type": "stream",
     "text": [
      "max b^T y\n",
      "A^T y <= c\n"
     ]
    }
   ],
   "source": [
    "%%dual\n",
    "min c^T x\n",
    "A x = b\n",
    "x >= 0"
   ]
  },
  {
   "cell_type": "code",
   "execution_count": 23,
   "metadata": {},
   "outputs": [
    {
     "name": "stdout",
     "output_type": "stream",
     "text": [
      "max b^T y\n",
      "A^T y = c\n",
      "y >= 0\n"
     ]
    }
   ],
   "source": [
    "%%dual\n",
    "min c^T x\n",
    "A x >= b"
   ]
  },
  {
   "cell_type": "code",
   "execution_count": 24,
   "metadata": {},
   "outputs": [
    {
     "name": "stdout",
     "output_type": "stream",
     "text": [
      "min - b^T y + f^T w\n",
      "-A^T y >= c\n",
      "P^T y + Q^T w = d\n",
      "y >= 0\n",
      "w >= 0\n"
     ]
    }
   ],
   "source": [
    "%%dual\n",
    "max c^T x + d^T z\n",
    "A x - P z >= b\n",
    "Q z <= f\n",
    "x >= 0"
   ]
  },
  {
   "cell_type": "code",
   "execution_count": 25,
   "metadata": {},
   "outputs": [
    {
     "name": "stdout",
     "output_type": "stream",
     "text": [
      "max c^T x + d^T z\n",
      "Q z <= f\n",
      "- A x + P z <= -b\n",
      "x >= 0\n"
     ]
    }
   ],
   "source": [
    "%%dual\n",
    "min - b^T y + f^T w\n",
    "-A^T y >= c\n",
    "P^T y + Q^T w = d\n",
    "y >= 0\n",
    "w >= 0"
   ]
  },
  {
   "cell_type": "markdown",
   "metadata": {},
   "source": [
    "### 9.12 モンテカルロ法を用いた最短路の計算"
   ]
  },
  {
   "cell_type": "code",
   "execution_count": 26,
   "metadata": {},
   "outputs": [
    {
     "name": "stderr",
     "output_type": "stream",
     "text": [
      "/Users/knt/.pyenv/versions/anaconda3-5.3.0/lib/python3.7/site-packages/networkx/drawing/nx_pylab.py:611: MatplotlibDeprecationWarning: isinstance(..., numbers.Number)\n",
      "  if cb.is_numlike(alpha):\n"
     ]
    },
    {
     "data": {
      "image/png": "[encoded data removed]",
      "text/plain": [
       "<Figure size 360x129.6 with 1 Axes>"
      ]
     },
     "metadata": {
      "needs_background": "light"
     },
     "output_type": "display_data"
    }
   ],
   "source": [
    "%matplotlib inline\n",
    "import numpy as np, networkx as nx, matplotlib.pyplot as plt\n",
    "plt.rcParams['figure.figsize'] = 5, 1.8\n",
    "m = 4  # 横の頂点数\n",
    "g = nx.Graph()\n",
    "for i in range(m):\n",
    "    if i==0:\n",
    "        g.add_edge(i, i+m, prob=[1], time=[1.9])  # 0-> 4\n",
    "    else:\n",
    "        g.add_edge(i, i+m, prob=[0.8,0.2], time=[1,6]) # 縦\n",
    "    if i < m-1:\n",
    "        g.add_edge(i, i+1, prob=[1], time=[2])  # 横\n",
    "        g.add_edge(i+m, i+m+1, prob=[1], time=[2])  # 横\n",
    "n = g.number_of_nodes()\n",
    "pos = {i:[i%m, i//m] for i in range(n)}\n",
    "nx.draw_networkx(g, pos, node_color='w')"
   ]
  },
  {
   "cell_type": "code",
   "execution_count": 27,
   "metadata": {},
   "outputs": [
    {
     "data": {
      "text/plain": [
       "array([7.04, 5.04, 3.17, 1.71, 6.  , 4.  , 2.  , 0.  ])"
      ]
     },
     "execution_count": 27,
     "metadata": {},
     "output_type": "execute_result"
    }
   ],
   "source": [
    "def monte_min(g, s, t, nn=1000):\n",
    "    n = g.number_of_nodes()\n",
    "    dd = [np.inf] * n  # 到達時間\n",
    "    bb = [False] * n  # 探索済み\n",
    "    for _, d in g.edges.items():\n",
    "        d['log'] = (np.random.multinomial(1, d['prob'], nn)\n",
    "                    * d['time']).sum(axis=1)\n",
    "    nx = t  # 次の点\n",
    "    dd[nx] = 0\n",
    "    bb[nx] = True\n",
    "    while not bb[s] and not np.isposinf(dd[nx]):\n",
    "        for nd in g.adj[nx]:\n",
    "            dd[nd] = min(dd[nd], np.mean([calcmin(dd,\n",
    "                g.adj[nd], i) for i in range(nn)]))\n",
    "        nx = np.argmin([np.inf if bb[i] else dd[i]\n",
    "                        for i in range(n)])\n",
    "        bb[nx] = True\n",
    "    return np.round(dd, 2)\n",
    "def calcmin(dd, dc, i):\n",
    "    return min([dd[nd]+d['log'][i] for nd,d in dc.items()])\n",
    "np.random.seed(1)\n",
    "monte_min(g, 0, 7)"
   ]
  },
  {
   "cell_type": "markdown",
   "metadata": {},
   "source": [
    "### 9.13 パズルを最適化で解く\n",
    "[パズルを最適化で解く](opt4puzzle/index.ipynb)"
   ]
  }
 ],
 "metadata": {
  "kernelspec": {
   "display_name": "Python 3",
   "language": "python",
   "name": "python3"
  },
  "language_info": {
   "codemirror_mode": {
    "name": "ipython",
    "version": 3
   },
   "file_extension": ".py",
   "mimetype": "text/x-python",
   "name": "python",
   "nbconvert_exporter": "python",
   "pygments_lexer": "ipython3",
   "version": "3.7.2"
  },
  "toc": {
   "nav_menu": {},
   "number_sections": false,
   "sideBar": true,
   "skip_h1_title": false,
   "toc_cell": false,
   "toc_position": {},
   "toc_section_display": "block",
   "toc_window_display": true
  },
  "varInspector": {
   "cols": {
    "lenName": 16,
    "lenType": 16,
    "lenVar": 40
   },
   "kernels_config": {
    "python": {
     "delete_cmd_postfix": "",
     "delete_cmd_prefix": "del ",
     "library": "var_list.py",
     "varRefreshCmd": "print(var_dic_list())"
    },
    "r": {
     "delete_cmd_postfix": ") ",
     "delete_cmd_prefix": "rm(",
     "library": "var_list.r",
     "varRefreshCmd": "cat(var_dic_list()) "
    }
   },
   "types_to_exclude": [
    "module",
    "function",
    "builtin_function_or_method",
    "instance",
    "_Feature"
   ],
   "window_display": false
  }
 },
 "nbformat": 4,
 "nbformat_minor": 2
}
