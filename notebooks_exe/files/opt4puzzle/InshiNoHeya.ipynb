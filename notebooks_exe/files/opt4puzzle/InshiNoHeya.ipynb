{
 "cells": [
  {
   "cell_type": "markdown",
   "metadata": {
    "cell_style": "split"
   },
   "source": [
    "<div style='float: right'><img src='pic/inshi.png'/></div>\n",
    "\n",
    "## <div id='inshi' />因子の部屋"
   ]
  },
  {
   "cell_type": "code",
   "execution_count": 1,
   "metadata": {
    "cell_style": "split"
   },
   "outputs": [],
   "source": [
    "#!pip3 install pulp ortoolpy\n",
    "import pandas as pd\n",
    "from math import log\n",
    "from pulp import LpProblem, lpSum, lpDot, value\n",
    "from ortoolpy import addbinvars\n",
    "data = \"\"\"\\\n",
    "ABBCD\n",
    "AEEFD\n",
    "GGHFD\n",
    "IJHKK\n",
    "ILHMM\"\"\".splitlines()\n",
    "nums = {'A':6, 'B':15, 'C':1, 'D':12, 'E':20, 'F':8,\n",
    "    'G':10, 'H':6, 'I':4, 'J':4, 'K':15, 'L':1, 'M':10}"
   ]
  },
  {
   "cell_type": "markdown",
   "metadata": {},
   "source": [
    "### 問題\n",
    "* すべてのマスに１からNまでの数字のどれかを１つずつ入ります（０は使いません）\n",
    "* タテ列、ヨコ列のどれにも、１からNまでの数字が１つずつ入ります\n",
    "* 太線で囲まれた四角形（部屋）の左上のマスに小さく書かれている数は、その部屋の各マスに入る数をすべてかけあわせた値となります\n",
    "\n",
    "### 変数\n",
    "* v：各マスでその数字かどうか (1)\n",
    "* r：マスの数字 (2)\n",
    "\n",
    "### 制約\n",
    "* $v_{ij}$は1つの数字のみ (3)\n",
    "* rをvで表す (4)\n",
    "* 縦および横で同じ数字はない (5)\n",
    "* 積が指定した数字 (6)"
   ]
  },
  {
   "cell_type": "code",
   "execution_count": 2,
   "metadata": {},
   "outputs": [
    {
     "data": {
      "text/html": [
       "<div>\n",
       "<style scoped>\n",
       "    .dataframe tbody tr th:only-of-type {\n",
       "        vertical-align: middle;\n",
       "    }\n",
       "\n",
       "    .dataframe tbody tr th {\n",
       "        vertical-align: top;\n",
       "    }\n",
       "\n",
       "    .dataframe thead th {\n",
       "        text-align: right;\n",
       "    }\n",
       "</style>\n",
       "<table border=\"1\" class=\"dataframe\">\n",
       "  <thead>\n",
       "    <tr style=\"text-align: right;\">\n",
       "      <th></th>\n",
       "      <th>行</th>\n",
       "      <th>列</th>\n",
       "      <th>数</th>\n",
       "      <th>字</th>\n",
       "      <th>Var</th>\n",
       "    </tr>\n",
       "  </thead>\n",
       "  <tbody>\n",
       "    <tr>\n",
       "      <th>0</th>\n",
       "      <td>0</td>\n",
       "      <td>0</td>\n",
       "      <td>1</td>\n",
       "      <td>A</td>\n",
       "      <td>v000001</td>\n",
       "    </tr>\n",
       "    <tr>\n",
       "      <th>1</th>\n",
       "      <td>0</td>\n",
       "      <td>0</td>\n",
       "      <td>2</td>\n",
       "      <td>A</td>\n",
       "      <td>v000002</td>\n",
       "    </tr>\n",
       "  </tbody>\n",
       "</table>\n",
       "</div>"
      ],
      "text/plain": [
       "   行  列  数  字      Var\n",
       "0  0  0  1  A  v000001\n",
       "1  0  0  2  A  v000002"
      ]
     },
     "execution_count": 2,
     "metadata": {},
     "output_type": "execute_result"
    }
   ],
   "source": [
    "nn = len(data)\n",
    "a = pd.DataFrame([(i,j,k,data[i][j]) for i in range(nn)\n",
    "    for j in range(nn) for k in range(1,nn+1)], columns=list('行列数字'))\n",
    "a['Var'] = addbinvars(len(a))\n",
    "a[:2]"
   ]
  },
  {
   "cell_type": "code",
   "execution_count": 3,
   "metadata": {},
   "outputs": [
    {
     "data": {
      "text/plain": [
       "1"
      ]
     },
     "execution_count": 3,
     "metadata": {},
     "output_type": "execute_result"
    }
   ],
   "source": [
    "m = LpProblem()\n",
    "for cl in [['行','列'],['行','数'],['列','数']]:\n",
    "    for _,v in a.groupby(cl):\n",
    "        m += lpSum(v.Var) == 1\n",
    "for g,v in a.groupby('字'):\n",
    "    e = lpDot([log(i) for i in v.数], v.Var) - log(nums[g])\n",
    "    m += e >= -0.0001\n",
    "    m += e <=  0.0001\n",
    "m.solve()"
   ]
  },
  {
   "cell_type": "code",
   "execution_count": 4,
   "metadata": {},
   "outputs": [
    {
     "name": "stdout",
     "output_type": "stream",
     "text": [
      "[[2 3 5 1 4]\n",
      " [3 5 4 2 1]\n",
      " [5 2 1 4 3]\n",
      " [1 4 2 3 5]\n",
      " [4 1 3 5 2]]\n"
     ]
    }
   ],
   "source": [
    "a['Val'] = a.Var.apply(value)\n",
    "print(a[a.Val>0.5].数.values.reshape(nn,nn))"
   ]
  }
 ],
 "metadata": {
  "anaconda-cloud": {},
  "kernelspec": {
   "display_name": "Python 3",
   "language": "python",
   "name": "python3"
  },
  "language_info": {
   "codemirror_mode": {
    "name": "ipython",
    "version": 3
   },
   "file_extension": ".py",
   "mimetype": "text/x-python",
   "name": "python",
   "nbconvert_exporter": "python",
   "pygments_lexer": "ipython3",
   "version": "3.7.2"
  },
  "toc": {
   "nav_menu": {},
   "number_sections": false,
   "sideBar": true,
   "skip_h1_title": false,
   "toc_cell": false,
   "toc_position": {},
   "toc_section_display": "block",
   "toc_window_display": false
  },
  "varInspector": {
   "cols": {
    "lenName": 16,
    "lenType": 16,
    "lenVar": 40
   },
   "kernels_config": {
    "python": {
     "delete_cmd_postfix": "",
     "delete_cmd_prefix": "del ",
     "library": "var_list.py",
     "varRefreshCmd": "print(var_dic_list())"
    },
    "r": {
     "delete_cmd_postfix": ") ",
     "delete_cmd_prefix": "rm(",
     "library": "var_list.r",
     "varRefreshCmd": "cat(var_dic_list()) "
    }
   },
   "types_to_exclude": [
    "module",
    "function",
    "builtin_function_or_method",
    "instance",
    "_Feature"
   ],
   "window_display": false
  }
 },
 "nbformat": 4,
 "nbformat_minor": 1
}
