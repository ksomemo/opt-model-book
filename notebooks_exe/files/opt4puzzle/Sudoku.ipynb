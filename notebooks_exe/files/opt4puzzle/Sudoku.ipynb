{
 "cells": [
  {
   "cell_type": "markdown",
   "metadata": {
    "cell_style": "split"
   },
   "source": [
    "<div style='float: right'><img src='pic/sudoku.png'/></div>\n",
    "\n",
    "## <div id='sudoku' />数独"
   ]
  },
  {
   "cell_type": "code",
   "execution_count": 1,
   "metadata": {
    "cell_style": "split"
   },
   "outputs": [],
   "source": [
    "#!pip3 install pulp ortoolpy\n",
    "import numpy as np, pandas as pd\n",
    "from pulp import LpProblem, lpDot, lpSum, value\n",
    "from itertools import product\n",
    "from ortoolpy import addvar, addvars, addbinvar, addbinvars\n",
    "data = \"\"\"\\\n",
    "..6.....1\n",
    ".7..6..5.\n",
    "8..1.32..\n",
    "..5.4.8..\n",
    ".4.7.2.9.\n",
    "..8.1.7..\n",
    "..12.5..3\n",
    ".6..7..8.\n",
    "2.....4..\"\"\".replace('\\n', '')"
   ]
  },
  {
   "cell_type": "markdown",
   "metadata": {},
   "source": [
    "### 問題\n",
    "* マスに 1～9 の数字を入れます\n",
    "* 縦、横または3×3に同じ数字は入りません\n",
    "\n",
    "### 定式化\n",
    "\\begin{array}{cl}\n",
    "            変数 & v_{ijk} \\in \\{0, 1\\} ~ \\forall i, j, k ~ ~ ~ マスi,jが数字k+1か (1) \\\\\n",
    "\\mbox{subject to} & \\sum_k{v_{ijk}} = 1 ~ \\forall i, j ~数字は1つ (2) \\\\\n",
    "                 & \\sum_k{v_{ikj}} = 1 ~ \\forall i, j ~ 縦に同じ数字はない (3) \\\\\n",
    "                 & \\sum_k{v_{kij}} = 1 ~ \\forall i, j ~ 横に同じ数字はない (4) \\\\\n",
    "                 & 3\\times3のマスについても同様 (5) \\\\\n",
    "                 & 数字指定 (6) \\\\\n",
    "\\end{array}"
   ]
  },
  {
   "cell_type": "code",
   "execution_count": 2,
   "metadata": {},
   "outputs": [
    {
     "data": {
      "text/plain": [
       "array([[5, 3, 6, 8, 2, 7, 9, 4, 1],\n",
       "       [1, 7, 2, 9, 6, 4, 3, 5, 8],\n",
       "       [8, 9, 4, 1, 5, 3, 2, 6, 7],\n",
       "       [7, 1, 5, 3, 4, 9, 8, 2, 6],\n",
       "       [6, 4, 3, 7, 8, 2, 1, 9, 5],\n",
       "       [9, 2, 8, 5, 1, 6, 7, 3, 4],\n",
       "       [4, 8, 1, 2, 9, 5, 6, 7, 3],\n",
       "       [3, 6, 9, 4, 7, 1, 5, 8, 2],\n",
       "       [2, 5, 7, 6, 3, 8, 4, 1, 9]])"
      ]
     },
     "execution_count": 2,
     "metadata": {},
     "output_type": "execute_result"
    }
   ],
   "source": [
    "r = range(9)\n",
    "a = pd.DataFrame([(i,j,(i//3)*3+j//3,k+1,c==str(k+1))\n",
    "    for (i,j),c in zip(product(r,r),data) for k in r],\n",
    "    columns=['行','列','_3x3','数','固'])\n",
    "a['Var'] = addbinvars(len(a))\n",
    "m = LpProblem()\n",
    "for cl in [['行','列'],['行','数'],['列','数'],['_3x3','数']]:\n",
    "    for _,v in a.groupby(cl):\n",
    "        m += lpSum(v.Var) == 1\n",
    "for _,r in a[a.固==True].iterrows():\n",
    "    m += r.Var == 1\n",
    "m.solve() # ソルバーで求解\n",
    "a['Val'] = a.Var.apply(value)\n",
    "a[a.Val>0.5].数.values.reshape(9,9)"
   ]
  }
 ],
 "metadata": {
  "anaconda-cloud": {},
  "kernelspec": {
   "display_name": "Python 3",
   "language": "python",
   "name": "python3"
  },
  "language_info": {
   "codemirror_mode": {
    "name": "ipython",
    "version": 3
   },
   "file_extension": ".py",
   "mimetype": "text/x-python",
   "name": "python",
   "nbconvert_exporter": "python",
   "pygments_lexer": "ipython3",
   "version": "3.7.2"
  },
  "toc": {
   "nav_menu": {},
   "number_sections": false,
   "sideBar": true,
   "skip_h1_title": false,
   "toc_cell": false,
   "toc_position": {},
   "toc_section_display": "block",
   "toc_window_display": false
  },
  "varInspector": {
   "cols": {
    "lenName": 16,
    "lenType": 16,
    "lenVar": 40
   },
   "kernels_config": {
    "python": {
     "delete_cmd_postfix": "",
     "delete_cmd_prefix": "del ",
     "library": "var_list.py",
     "varRefreshCmd": "print(var_dic_list())"
    },
    "r": {
     "delete_cmd_postfix": ") ",
     "delete_cmd_prefix": "rm(",
     "library": "var_list.r",
     "varRefreshCmd": "cat(var_dic_list()) "
    }
   },
   "types_to_exclude": [
    "module",
    "function",
    "builtin_function_or_method",
    "instance",
    "_Feature"
   ],
   "window_display": false
  }
 },
 "nbformat": 4,
 "nbformat_minor": 1
}
