{
 "cells": [
  {
   "cell_type": "markdown",
   "metadata": {
    "cell_style": "split"
   },
   "source": [
    "<div style='float: right'><img src='pic/hitori.png'/></div>\n",
    "\n",
    "## <div id='hitori' />ひとりにしてくれ"
   ]
  },
  {
   "cell_type": "code",
   "execution_count": 1,
   "metadata": {
    "cell_style": "split"
   },
   "outputs": [],
   "source": [
    "#!pip3 install pulp ortoolpy\n",
    "import numpy as np\n",
    "from itertools import chain, product\n",
    "from pulp import *\n",
    "from ortoolpy import addvar, addvars, addbinvar, addbinvars, unionfind\n",
    "data = np.array([list(s) for s in \"\"\"\\\n",
    "18626753\n",
    "31118222\n",
    "83247651\n",
    "37583314\n",
    "54467182\n",
    "71432535\n",
    "22834475\n",
    "22314465\"\"\".split()]).astype(int)\n",
    "nn = len(data)"
   ]
  },
  {
   "cell_type": "markdown",
   "metadata": {},
   "source": [
    "### 問題\n",
    "* 盤面に並んでいる数字のうちいくつかを黒くぬり、タテでもヨコでも同じ列に同じ数字が複数個入らないようにします\n",
    "* 黒マスをタテヨコに連続したり、黒マスで盤面を分断してはいけません\n",
    "\n",
    "### 変数\n",
    "* v：0:number, 1:black (1)\n",
    "\n",
    "### 制約\n",
    "* 黒以外の数字は縦横に重複しないこと (2)\n",
    "* 黒は連続しないこと (3)\n",
    "* 黒で分断しないこと (4)"
   ]
  },
  {
   "cell_type": "code",
   "execution_count": 2,
   "metadata": {},
   "outputs": [
    {
     "name": "stdout",
     "output_type": "stream",
     "text": [
      "CPU times: user 8.02 ms, sys: 5.04 ms, total: 13.1 ms\n",
      "Wall time: 32.8 ms\n",
      "CPU times: user 11.2 ms, sys: 5.7 ms, total: 16.9 ms\n",
      "Wall time: 44.7 ms\n",
      "CPU times: user 7.95 ms, sys: 4.69 ms, total: 12.6 ms\n",
      "Wall time: 36.4 ms\n",
      "CPU times: user 8.53 ms, sys: 5.27 ms, total: 13.8 ms\n",
      "Wall time: 30.7 ms\n",
      "CPU times: user 9 ms, sys: 5.33 ms, total: 14.3 ms\n",
      "Wall time: 30.5 ms\n",
      "CPU times: user 10.3 ms, sys: 4.57 ms, total: 14.8 ms\n",
      "Wall time: 30 ms\n",
      "CPU times: user 14.4 ms, sys: 6.7 ms, total: 21.1 ms\n",
      "Wall time: 45.9 ms\n",
      "CPU times: user 13.7 ms, sys: 5.66 ms, total: 19.3 ms\n",
      "Wall time: 40 ms\n",
      "CPU times: user 8.57 ms, sys: 5.31 ms, total: 13.9 ms\n",
      "Wall time: 31.5 ms\n"
     ]
    },
    {
     "data": {
      "text/plain": [
       "[[1, 8, 0, 2, 6, 7, 5, 3],\n",
       " [3, 0, 1, 0, 8, 0, 2, 0],\n",
       " [8, 3, 2, 4, 7, 6, 0, 1],\n",
       " [0, 7, 5, 8, 3, 0, 1, 4],\n",
       " [5, 4, 0, 6, 0, 1, 8, 2],\n",
       " [7, 1, 4, 0, 2, 5, 3, 0],\n",
       " [2, 0, 8, 3, 4, 0, 7, 5],\n",
       " [0, 2, 3, 1, 0, 4, 6, 0]]"
      ]
     },
     "execution_count": 2,
     "metadata": {},
     "output_type": "execute_result"
    }
   ],
   "source": [
    "m = LpProblem()\n",
    "v = np.array(addbinvars(nn, nn)) # 0:number, 1:black (1)\n",
    "for i, j in product(range(nn), range(nn)):\n",
    "    for x in [v[i,:][data[i,:] == j+1], v[:,i][data[:,i] == j+1]]:\n",
    "        m += lpSum(x) >= len(x)-1 # (2)\n",
    "for e in chain((v[1:,:] + v[:-1,:]).flat, (v[:,1:] + v[:,:-1]).flat):\n",
    "    m += e <= 1 # (3)\n",
    "while True:\n",
    "    %time m.solve()\n",
    "    r = np.vectorize(value)(v)\n",
    "    if unionfind.isconnected(1-r):\n",
    "        break\n",
    "    m += lpSum(v[r==1]) <= r.sum() - 1 # (4)\n",
    "data[r==1] = 0\n",
    "data.tolist()"
   ]
  }
 ],
 "metadata": {
  "anaconda-cloud": {},
  "kernelspec": {
   "display_name": "Python 3",
   "language": "python",
   "name": "python3"
  },
  "language_info": {
   "codemirror_mode": {
    "name": "ipython",
    "version": 3
   },
   "file_extension": ".py",
   "mimetype": "text/x-python",
   "name": "python",
   "nbconvert_exporter": "python",
   "pygments_lexer": "ipython3",
   "version": "3.7.2"
  },
  "toc": {
   "nav_menu": {},
   "number_sections": false,
   "sideBar": true,
   "skip_h1_title": false,
   "toc_cell": false,
   "toc_position": {},
   "toc_section_display": "block",
   "toc_window_display": false
  },
  "varInspector": {
   "cols": {
    "lenName": 16,
    "lenType": 16,
    "lenVar": 40
   },
   "kernels_config": {
    "python": {
     "delete_cmd_postfix": "",
     "delete_cmd_prefix": "del ",
     "library": "var_list.py",
     "varRefreshCmd": "print(var_dic_list())"
    },
    "r": {
     "delete_cmd_postfix": ") ",
     "delete_cmd_prefix": "rm(",
     "library": "var_list.r",
     "varRefreshCmd": "cat(var_dic_list()) "
    }
   },
   "types_to_exclude": [
    "module",
    "function",
    "builtin_function_or_method",
    "instance",
    "_Feature"
   ],
   "window_display": false
  }
 },
 "nbformat": 4,
 "nbformat_minor": 1
}
