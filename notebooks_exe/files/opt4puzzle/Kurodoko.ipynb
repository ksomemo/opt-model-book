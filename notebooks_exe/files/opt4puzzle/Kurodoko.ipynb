{
 "cells": [
  {
   "cell_type": "markdown",
   "metadata": {
    "cell_style": "split"
   },
   "source": [
    "<div style='float: right'><img src='pic/kurodoko.png'/></div>\n",
    "\n",
    "## <div id='kurodoko' />黒どこ"
   ]
  },
  {
   "cell_type": "code",
   "execution_count": 1,
   "metadata": {
    "cell_style": "split"
   },
   "outputs": [],
   "source": [
    "#!pip3 install pulp ortoolpy\n",
    "%matplotlib inline\n",
    "import numpy as np, matplotlib.pyplot as plt\n",
    "from itertools import product\n",
    "from pulp import *\n",
    "from ortoolpy import addvar, addvars, addbinvar, addbinvars, unionfind\n",
    "data = \"\"\"\\\n",
    ".3.....\n",
    ".....2.\n",
    "..5...2\n",
    "...d...\n",
    "8...5..\n",
    ".7.....\n",
    ".....9.\"\"\".split()\n",
    "nw, nh = len(data[0]), len(data)"
   ]
  },
  {
   "cell_type": "markdown",
   "metadata": {},
   "source": [
    "### 問題\n",
    "* 盤面のいくつかのマスを黒くぬります\n",
    "* 盤面の数字は、その数字から上下左右４方向にまっすぐ進み、次の黒マスか外周にたどりつくまでの、その数字を含めてのマス数の合計を表します\n",
    "* 数字が入っているマスを黒くぬってはいけません\n",
    "* 黒マスをタテヨコに連続させたり、黒マスで盤面を分断したりしてはいけません\n",
    "\n",
    "### 変数\n",
    "* vb：0: white, 1: black (1)\n",
    "* vd：0: left, 1: up. 2: right, 3:down (2)\n",
    "\n",
    "### 制約\n",
    "* 各マスが黒ならvdは全方向とも0 (3)\n",
    "* 各マスが白ならvdは方向先のvdより1大きいこと (4)\n",
    "* 端のvdは、白なら1、黒なら0 (5)\n",
    "* 黒は連続しないこと (6)\n",
    "* 数字ならマスは白 (7)\n",
    "* 数字なら$vd_{ij}$の和は数字＋３に等しいこと (8)\n",
    "* 黒マスが分断しないこと (9)"
   ]
  },
  {
   "cell_type": "code",
   "execution_count": 2,
   "metadata": {},
   "outputs": [
    {
     "name": "stdout",
     "output_type": "stream",
     "text": [
      "CPU times: user 22.6 ms, sys: 5.11 ms, total: 27.7 ms\n",
      "Wall time: 72.7 ms\n"
     ]
    },
    {
     "data": {
      "image/png": "[encoded data removed]",
      "text/plain": [
       "<Figure size 432x288 with 1 Axes>"
      ]
     },
     "metadata": {
      "needs_background": "light"
     },
     "output_type": "display_data"
    }
   ],
   "source": [
    "m = LpProblem()\n",
    "vb = np.array(addbinvars(nh, nw)) # 0: white, 1: black (1)\n",
    "vd = np.array(addvars(nh, nw, 4)) # 0: left, 1: up. 2: right, 3:down (2)\n",
    "for i, j in product(range(nh), range(nw)):\n",
    "    for k in range(4):\n",
    "        mx = nw if k % 2 else nh\n",
    "        m += vd[i,j,k] <= (1 - vb[i,j]) * mx # (3)\n",
    "        ik, jk = i + [-1, 0, 1, 0][k], j + [0, -1, 0, 1][k]\n",
    "        if 0 <= ik < nh and 0 <= jk < nw:\n",
    "            m += vd[i,j,k] >= vd[ik,jk,k] + 1 - mx * vb[i,j] # (4)\n",
    "            m += vd[i,j,k] <= vd[ik,jk,k] + 1 + mx * vb[i,j] # (4)\n",
    "        else:\n",
    "            m += vd[i,j,k] == 1 - vb[i,j] # (5)\n",
    "    if i > 0:\n",
    "        m += vb[i-1,j] + vb[i,j] <= 1 # (6)\n",
    "    if j > 0:\n",
    "        m += vb[i,j-1] + vb[i,j] <= 1 # (6)\n",
    "    if data[i][j] != '.':\n",
    "        m += vb[i,j] == 0 # (7)\n",
    "        n = int(data[i][j]) if data[i][j].isdigit() else ord(data[i][j]) - 87\n",
    "        m += lpSum(vd[i,j]) == n + 3 # (8)\n",
    "while True:\n",
    "    %time m.solve()\n",
    "    rb = np.vectorize(value)(vb).astype(int)\n",
    "    if unionfind.isconnected(1-rb):\n",
    "        break\n",
    "    m += lpSum(vb[rb==1]) <= rb.sum() - 1 # (9)\n",
    "plt.imshow(1-rb, cmap='gray', interpolation='none');"
   ]
  }
 ],
 "metadata": {
  "anaconda-cloud": {},
  "kernelspec": {
   "display_name": "Python 3",
   "language": "python",
   "name": "python3"
  },
  "language_info": {
   "codemirror_mode": {
    "name": "ipython",
    "version": 3
   },
   "file_extension": ".py",
   "mimetype": "text/x-python",
   "name": "python",
   "nbconvert_exporter": "python",
   "pygments_lexer": "ipython3",
   "version": "3.7.2"
  },
  "toc": {
   "nav_menu": {},
   "number_sections": false,
   "sideBar": true,
   "skip_h1_title": false,
   "toc_cell": false,
   "toc_position": {},
   "toc_section_display": "block",
   "toc_window_display": false
  },
  "varInspector": {
   "cols": {
    "lenName": 16,
    "lenType": 16,
    "lenVar": 40
   },
   "kernels_config": {
    "python": {
     "delete_cmd_postfix": "",
     "delete_cmd_prefix": "del ",
     "library": "var_list.py",
     "varRefreshCmd": "print(var_dic_list())"
    },
    "r": {
     "delete_cmd_postfix": ") ",
     "delete_cmd_prefix": "rm(",
     "library": "var_list.r",
     "varRefreshCmd": "cat(var_dic_list()) "
    }
   },
   "types_to_exclude": [
    "module",
    "function",
    "builtin_function_or_method",
    "instance",
    "_Feature"
   ],
   "window_display": false
  }
 },
 "nbformat": 4,
 "nbformat_minor": 1
}
