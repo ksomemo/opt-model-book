{
 "cells": [
  {
   "cell_type": "markdown",
   "metadata": {},
   "source": [
    "## データ分析ライブラリーを用いた最適化モデルの作り方\n",
    "\n",
    "- [1章 最適化とは](files/chapter01.ipynb)\n",
    "- [2章 Pythonで最適化を解くための環境構築](files/chapter02.ipynb)\n",
    "- [3章 Jupyter Notebookの使い方](files/chapter03.ipynb)\n",
    "- [4章 PuLPの使い方（最適化モデル）](files/chapter04.ipynb)\n",
    "- [5章 pandasの使い方（変数表）](files/chapter05.ipynb)\n",
    "- [6章 NetworkXの使い方（グラフ）](files/chapter06.ipynb)\n",
    "- [7章 モデルの作り方（基本）](files/chapter07.ipynb)\n",
    "- [8章 モデルの作り方（応用）](files/chapter08.ipynb)\n",
    "- [9章 最適化アラカルト](files/chapter09.ipynb)\n",
    "  - [パズルを最適化で解く](files/opt4puzzle/index.ipynb)\n",
    "- [付録A 最適化のアルゴリズム](files/appendixA.ipynb)\n",
    "- [付録B 典型的な最適化問題](files/appendixB.ipynb)\n",
    "- [付録C PuLPチートシート](https://www.dropbox.com/s/shwfke0hq4zwaor/Cheat_Sheet.pdf?dl=0)\n"
   ]
  }
 ],
 "metadata": {
  "kernelspec": {
   "display_name": "Python 3",
   "language": "python",
   "name": "python3"
  },
  "language_info": {
   "codemirror_mode": {
    "name": "ipython",
    "version": 3
   },
   "file_extension": ".py",
   "mimetype": "text/x-python",
   "name": "python",
   "nbconvert_exporter": "python",
   "pygments_lexer": "ipython3",
   "version": "3.7.0"
  },
  "toc": {
   "nav_menu": {},
   "number_sections": false,
   "sideBar": true,
   "skip_h1_title": false,
   "toc_cell": false,
   "toc_position": {},
   "toc_section_display": "block",
   "toc_window_display": false
  },
  "varInspector": {
   "cols": {
    "lenName": 16,
    "lenType": 16,
    "lenVar": 40
   },
   "kernels_config": {
    "python": {
     "delete_cmd_postfix": "",
     "delete_cmd_prefix": "del ",
     "library": "var_list.py",
     "varRefreshCmd": "print(var_dic_list())"
    },
    "r": {
     "delete_cmd_postfix": ") ",
     "delete_cmd_prefix": "rm(",
     "library": "var_list.r",
     "varRefreshCmd": "cat(var_dic_list()) "
    }
   },
   "types_to_exclude": [
    "module",
    "function",
    "builtin_function_or_method",
    "instance",
    "_Feature"
   ],
   "window_display": false
  }
 },
 "nbformat": 4,
 "nbformat_minor": 2
}
